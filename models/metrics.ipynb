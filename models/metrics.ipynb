{
 "cells": [
  {
   "cell_type": "code",
   "execution_count": null,
   "metadata": {
    "collapsed": true
   },
   "outputs": [],
   "source": [
    "import pandas as pd\n",
    "import os\n",
    "import plotly.graph_objects as go\n",
    "import plotly.express as px\n",
    "import plotly.io as pio\n",
    "import streamlit as st\n",
    "from sklearn.metrics import mean_absolute_error, mean_squared_error, mean_absolute_percentage_error\n",
    "os.chdir('..')\n",
    "actuals = pd.read_pickle(os.path.join(os.getcwd(), 'results_app', 'actuals_all.pkl'))\n",
    "actuals.index = pd.to_datetime(actuals.index)\n",
    "actuals.columns = [i for i in range(24)]\n",
    "dnn_predictions = pd.read_pickle(os.path.join(os.getcwd(), 'results_app', 'dnn4_preds_all.pkl'))\n",
    "lear_predictions = pd.read_pickle(os.path.join(os.getcwd(), 'results_app', 'lear_preds_all.pkl'))\n",
    "lstm_predictions = pd.read_pickle(os.path.join(os.getcwd(), 'results_app', 'lstm_preds_all.pkl'))\n",
    "\n",
    "##### YOu are here\n",
    "\n",
    "dnn_predictions.index = pd.to_datetime(dnn_predictions.index)\n",
    "\n",
    "#melt\n",
    "dnn_predictions_melt = pd.melt(dnn_predictions.reset_index(), id_vars='index', var_name='hour', value_name='dnn')\n",
    "actuals_melt = pd.melt(actuals.reset_index(), id_vars='index', var_name='hour', value_name='actuals')\n",
    "\n",
    "# add hour to index column to create a datetime column\n",
    "dnn_predictions_melt['index'] = pd.to_datetime(dnn_predictions_melt['index']) + pd.to_timedelta(dnn_predictions_melt['hour'], unit='h')\n",
    "actuals_melt['index'] = pd.to_datetime(actuals_melt['index']) + pd.to_timedelta(actuals_melt['hour'], unit='h')\n",
    "\n",
    "# drop hour column\n",
    "dnn_predictions_melt.drop('hour', axis=1, inplace=True)\n",
    "actuals_melt.drop('hour', axis=1, inplace=True)\n",
    "\n",
    "# sort\n",
    "actuals_melt = actuals_melt.sort_values(by=['index'])\n",
    "dnn_predictions_melt = dnn_predictions_melt.sort_values(by=['index'])\n",
    "\n",
    "df = pd.merge(dnn_predictions_melt, actuals_melt, on=['index'], how='left')\n",
    "df = df.sort_values(by=['index'])"
   ]
  }
 ],
 "metadata": {
  "kernelspec": {
   "display_name": "Python 3",
   "language": "python",
   "name": "python3"
  },
  "language_info": {
   "codemirror_mode": {
    "name": "ipython",
    "version": 2
   },
   "file_extension": ".py",
   "mimetype": "text/x-python",
   "name": "python",
   "nbconvert_exporter": "python",
   "pygments_lexer": "ipython2",
   "version": "2.7.6"
  }
 },
 "nbformat": 4,
 "nbformat_minor": 0
}
