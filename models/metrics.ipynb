{
 "cells": [
  {
   "cell_type": "code",
   "execution_count": null,
   "metadata": {
    "collapsed": true
   },
   "outputs": [],
   "source": [
    "import pandas as pd\n",
    "import os\n",
    "import plotly.graph_objects as go\n",
    "import plotly.express as px\n",
    "import plotly.io as pio\n",
    "import streamlit as st\n",
    "from sklearn.metrics import mean_absolute_error, mean_squared_error, mean_absolute_percentage_error\n",
    "os.chdir('..')\n",
    "actuals = pd.read_pickle(os.path.join(os.getcwd(), 'results_app', 'actuals_all.pkl'))\n",
    "actuals.index = pd.to_datetime(actuals.index)\n",
    "actuals.columns = [i for i in range(24)]\n",
    "dnn_predictions = pd.read_pickle(os.path.join(os.getcwd(), 'results_app', 'dnn4_preds_all.pkl'))\n",
    "lear_predictions = pd.read_pickle(os.path.join(os.getcwd(), 'results_app', 'lear_preds_all.pkl'))\n",
    "lstm_predictions = pd.read_pickle(os.path.join(os.getcwd(), 'results_app', 'lstm_preds_all.pkl'))\n",
    "transformer_predictions = pd.read_pickle(os.path.join(os.getcwd(), 'results_app', 'transformer_preds_all.pkl'))\n",
    "##### YOu are here\n",
    "\n",
    "lstm_predictions.index =\n",
    "#melt\n",
    "dnn_predictions_melt = pd.melt(dnn_predictions.reset_index(), id_vars='index', var_name='hour', value_name='dnn')\n",
    "actuals_melt = pd.melt(actuals.reset_index(), id_vars='index', var_name='hour', value_name='actuals')\n",
    "\n",
    "# add hour to index column to create a datetime column\n",
    "dnn_predictions_melt['index'] = pd.to_datetime(dnn_predictions_melt['index']) + pd.to_timedelta(dnn_predictions_melt['hour'], unit='h')\n",
    "actuals_melt['index'] = pd.to_datetime(actuals_melt['index']) + pd.to_timedelta(actuals_melt['hour'], unit='h')\n",
    "\n",
    "# drop hour column\n",
    "dnn_predictions_melt.drop('hour', axis=1, inplace=True)\n",
    "actuals_melt.drop('hour', axis=1, inplace=True)\n",
    "\n",
    "# sort\n",
    "actuals_melt = actuals_melt.sort_values(by=['index'])\n",
    "dnn_predictions_melt = dnn_predictions_melt.sort_values(by=['index'])\n",
    "\n",
    "df = pd.merge(dnn_predictions_melt, actuals_melt, on=['index'], how='left')\n",
    "df = df.sort_values(by=['index'])"
   ]
  },
  {
   "cell_type": "code",
   "execution_count": 4,
   "outputs": [],
   "source": [
    "import pickle\n",
    "import pandas as pd\n",
    "trans_params_path = r'C:\\Users\\frede\\PycharmProjects\\Masters\\models\\Transformer\\best_params.pkl'\n",
    "best_params = pd.read_pickle(trans_params_path)\n",
    "batch_size = [2, 4, 8, 16, 32, 64, 128]\n",
    "num_encoder_layers = [i for i in range(1, 11)]\n",
    "num_decoder_layers = [i for i in range(1, 11)]\n",
    "encoder_dim_feedforward = [i for i in range(2**10, 2**12, 2**7)]\n",
    "decoder_dim_feedforward = [i for i in range(2**10, 2**12, 2**7)]\n",
    "seq_length = [1, 2, 3, 4, 6, 8, 12, 24]\n",
    "num_heads = [i for i in range(2, 21, 2)]\n",
    "hidden_dim_multiplier = [i for i in range(2, 65, 2)]\n",
    "\n",
    "\n",
    "best_params['batch_size'] = int(batch_size[best_params['batch_size']])\n",
    "best_params['num_encoder_layers'] = int(num_encoder_layers[best_params['num_encoder_layers']])\n",
    "best_params['num_decoder_layers'] = int(num_decoder_layers[best_params['num_decoder_layers']])\n",
    "best_params['encoder_dim_feedforward'] = int(encoder_dim_feedforward[best_params['encoder_dim_feedforward']])\n",
    "best_params['decoder_dim_feedforward'] = int(decoder_dim_feedforward[best_params['decoder_dim_feedforward']])\n",
    "best_params['sequence_length'] = int(seq_length[best_params['sequence_length']])\n",
    "best_params['num_heads'] = int(num_heads[best_params['num_heads']])\n",
    "best_params['hidden_size_dim_multiplier'] = int(hidden_dim_multiplier[best_params['hidden_size_dim_multiplier']])\n",
    "\n",
    "best_params['hidden_dim'] = best_params['hidden_size_dim_multiplier'] * best_params['num_heads']"
   ],
   "metadata": {
    "collapsed": false
   }
  },
  {
   "cell_type": "code",
   "execution_count": 5,
   "outputs": [
    {
     "name": "stdout",
     "output_type": "stream",
     "text": [
      "{'batch_size': 4, 'decoder_dim_feedforward': 1664, 'dropout_rate': 0.010208029064585667, 'encoder_dim_feedforward': 1664, 'hidden_size_dim_multiplier': 34, 'learning_rate': 0.0004542906736780608, 'num_decoder_layers': 1, 'num_encoder_layers': 2, 'num_heads': 14, 'sequence_length': 1, 'weight_decay': 0.001258790528127942, 'hidden_dim': 476}\n"
     ]
    }
   ],
   "source": [
    "print(best_params)"
   ],
   "metadata": {
    "collapsed": false
   }
  },
  {
   "cell_type": "code",
   "execution_count": null,
   "outputs": [],
   "source": [],
   "metadata": {
    "collapsed": false
   }
  }
 ],
 "metadata": {
  "kernelspec": {
   "display_name": "Python 3",
   "language": "python",
   "name": "python3"
  },
  "language_info": {
   "codemirror_mode": {
    "name": "ipython",
    "version": 2
   },
   "file_extension": ".py",
   "mimetype": "text/x-python",
   "name": "python",
   "nbconvert_exporter": "python",
   "pygments_lexer": "ipython2",
   "version": "2.7.6"
  }
 },
 "nbformat": 4,
 "nbformat_minor": 0
}
