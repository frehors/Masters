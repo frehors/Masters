{
 "cells": [
  {
   "cell_type": "code",
   "execution_count": null,
   "metadata": {
    "collapsed": true
   },
   "outputs": [],
   "source": [
    "from models.create_dataset import create_dataset\n",
    "import pandas as pd\n",
    "import numpy as np\n",
    "from sklearn.model_selection import train_test_split\n",
    "from sklearn.linear_model import LinearRegression\n",
    "# lasso model\n",
    "from sklearn.linear_model import Lasso\n",
    "import logging\n",
    "import os\n"
   ]
  },
  {
   "cell_type": "code",
   "execution_count": null,
   "outputs": [],
   "source": [
    "# Set up logging\n",
    "logging.basicConfig(level=logging.INFO, format='%(asctime)s - %(name)s - %(levelname)s - %(message)s')\n",
    "logger = logging.getLogger(__name__)"
   ],
   "metadata": {
    "collapsed": false
   }
  },
  {
   "cell_type": "code",
   "execution_count": null,
   "outputs": [],
   "source": [
    "# load data\n",
    "target_col = 'DK1_price'\n",
    "data = create_dataset(target_col=target_col)\n"
   ],
   "metadata": {
    "collapsed": false
   }
  },
  {
   "cell_type": "code",
   "execution_count": null,
   "outputs": [],
   "source": [
    "\n"
   ],
   "metadata": {
    "collapsed": false
   }
  },
  {
   "cell_type": "code",
   "execution_count": null,
   "outputs": [],
   "source": [
    "# split into X and y\n",
    "X = data.drop(target_col, axis=1)\n",
    "y = data[target_col]\n"
   ],
   "metadata": {
    "collapsed": false
   }
  },
  {
   "cell_type": "code",
   "execution_count": null,
   "outputs": [],
   "source": [
    "# split into train and test\n",
    "test_cutoff = pd.to_datetime('2021-01-01')\n",
    "# subtract one hour\n",
    "X_train, X_test = X[X.index < test_cutoff], X[X.index >= test_cutoff]\n",
    "y_train, y_test = y[y.index < test_cutoff], y[y.index >= test_cutoff]\n",
    "# split into train and validation\n",
    "X_train, X_val, y_train, y_val = train_test_split(X_train, y_train, test_size=0.2, shuffle=False)"
   ],
   "metadata": {
    "collapsed": false
   }
  },
  {
   "cell_type": "code",
   "execution_count": null,
   "outputs": [],
   "source": [
    "# quick linear regression\n",
    "reg = LinearRegression().fit(X_train, y_train)\n"
   ],
   "metadata": {
    "collapsed": false
   }
  },
  {
   "cell_type": "code",
   "execution_count": null,
   "outputs": [],
   "source": [
    "# iterate over test set day by day and fit and predict\n",
    "day_range = pd.date_range(start=test_cutoff, end=y.index[-1], freq='D')\n",
    "preds = pd.DataFrame(index=y_test.index, columns=['pred'])\n",
    "\n",
    "for i, day in enumerate(day_range):\n",
    "    if day.day == 1:\n",
    "        logger.info(f'Predicting day {day} ({i+1}/{len(day_range)})')\n",
    "    # get train data\n",
    "    X_train = X[X.index < day]\n",
    "    y_train = y[y.index < day]\n",
    "    # fit model\n",
    "    #reg = LinearRegression().fit(X_train, y_train)\n",
    "    # lasso\n",
    "\n",
    "    reg = Lasso(alpha=1, tol=1e-2).fit(X_train, y_train)\n",
    "\n",
    "    # get test data\n",
    "\n",
    "    X_test = X[(X.index >= day) & (X.index < day + pd.Timedelta(days=1))]\n",
    "\n",
    "    # predict\n",
    "    pred = reg.predict(X_test)\n",
    "    preds.loc[X_test.index, 'pred'] = pred"
   ],
   "metadata": {
    "collapsed": false
   }
  },
  {
   "cell_type": "code",
   "execution_count": null,
   "outputs": [],
   "source": [
    "# calculate MAE and RMSE\n",
    "from sklearn.metrics import mean_absolute_error, mean_squared_error\n",
    "mae = mean_absolute_error(y_test, preds['pred'])\n",
    "rmse = np.sqrt(mean_squared_error(y_test, preds['pred']))"
   ],
   "metadata": {
    "collapsed": false
   }
  },
  {
   "cell_type": "code",
   "execution_count": null,
   "outputs": [],
   "source": [
    "mae"
   ],
   "metadata": {
    "collapsed": false
   }
  },
  {
   "cell_type": "code",
   "execution_count": null,
   "outputs": [],
   "source": [
    "rmse"
   ],
   "metadata": {
    "collapsed": false
   }
  },
  {
   "cell_type": "code",
   "execution_count": null,
   "outputs": [],
   "source": [
    "# plot last month\n",
    "import matplotlib.pyplot as plt\n",
    "\n",
    "plt.plot(y_test[-24*30:], label='true')\n",
    "plt.plot(preds['pred'][-24*30:], label='pred')\n",
    "plt.legend()\n",
    "plt.show()"
   ],
   "metadata": {
    "collapsed": false
   }
  },
  {
   "cell_type": "code",
   "execution_count": null,
   "outputs": [],
   "source": [
    "0"
   ],
   "metadata": {
    "collapsed": false
   }
  }
 ],
 "metadata": {
  "kernelspec": {
   "display_name": "Python 3",
   "language": "python",
   "name": "python3"
  },
  "language_info": {
   "codemirror_mode": {
    "name": "ipython",
    "version": 2
   },
   "file_extension": ".py",
   "mimetype": "text/x-python",
   "name": "python",
   "nbconvert_exporter": "python",
   "pygments_lexer": "ipython2",
   "version": "2.7.6"
  }
 },
 "nbformat": 4,
 "nbformat_minor": 0
}
