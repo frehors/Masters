{
 "cells": [
  {
   "cell_type": "code",
   "execution_count": 1,
   "metadata": {
    "collapsed": true
   },
   "outputs": [],
   "source": [
    "import warnings\n",
    "warnings.simplefilter(action='ignore', category=FutureWarning)\n",
    "from models.create_dataset import create_dataset\n",
    "import pandas as pd\n",
    "import numpy as np\n",
    "from sklearn.model_selection import train_test_split\n",
    "from sklearn.linear_model import LinearRegression\n",
    "# lasso model\n",
    "from epftoolbox.models import LEAR\n",
    "from sklearn.linear_model import Lasso\n",
    "import logging\n",
    "import os\n",
    "import time\n",
    "# import MAE\n",
    "from sklearn.metrics import mean_absolute_error\n"
   ]
  },
  {
   "cell_type": "code",
   "execution_count": 2,
   "outputs": [],
   "source": [
    "\n",
    "# Set up logging\n",
    "logging.basicConfig(level=logging.INFO, format='%(asctime)s - %(name)s - %(levelname)s - %(message)s'\n",
    "                    , handlers=[logging.FileHandler('LEAR_epf.log'), logging.StreamHandler()])\n",
    "logger = logging.getLogger(__name__)\n"
   ],
   "metadata": {
    "collapsed": false
   }
  },
  {
   "cell_type": "code",
   "execution_count": 3,
   "outputs": [
    {
     "name": "stdout",
     "output_type": "stream",
     "text": [
      "['NO_Solar', 'NO_Solar_lag_1', 'NO_Solar_lag_2', 'NO_Solar_lag_3', 'NO_Solar_lag_7']\n"
     ]
    }
   ],
   "source": [
    "# load data\n",
    "target_col = 'DK1_price'\n",
    "df = create_dataset(target_col=target_col)"
   ],
   "metadata": {
    "collapsed": false
   }
  },
  {
   "cell_type": "code",
   "execution_count": 4,
   "outputs": [
    {
     "data": {
      "text/plain": "                     DE_Solar  DK1_Solar  DK2_Solar  DK_Wind  NO_Wind  \\\nDateTime                                                                \n2015-03-03 23:00:00       0.0        0.0        0.0   974.68    93.27   \n2015-03-04 00:00:00       0.0        0.0        0.0  1080.81   105.96   \n2015-03-04 01:00:00       0.0        0.0        0.0  1112.65   108.83   \n2015-03-04 02:00:00       0.0        0.0        0.0  1120.14   144.66   \n2015-03-04 03:00:00       0.0        0.0        0.0  1110.01   129.67   \n\n                      DE_Wind  SE_Wind  DK1_price  DE_price  DE_Solar_lag_1  \\\nDateTime                                                                      \n2015-03-03 23:00:00  14102.28   921.48      24.44     23.31             0.0   \n2015-03-04 00:00:00  15577.88   882.03      23.80     16.25             0.0   \n2015-03-04 01:00:00  15496.93   856.06      23.38     15.37             0.0   \n2015-03-04 02:00:00  15667.33   840.29      23.62     15.50             0.0   \n2015-03-04 03:00:00  15806.69   848.01      24.43     18.04             0.0   \n\n                     ...  DE_price_lag_2  DE_price_lag_3  DE_price_lag_7  \\\nDateTime             ...                                                   \n2015-03-03 23:00:00  ...           18.00           11.76           29.62   \n2015-03-04 00:00:00  ...           15.38            4.20           30.04   \n2015-03-04 01:00:00  ...           15.10           -0.05           28.68   \n2015-03-04 02:00:00  ...           13.00           -0.09           29.45   \n2015-03-04 03:00:00  ...           12.00           -2.00           30.02   \n\n                     day_of_week_0  day_of_week_1  day_of_week_2  \\\nDateTime                                                           \n2015-03-03 23:00:00              0              1              0   \n2015-03-04 00:00:00              0              0              1   \n2015-03-04 01:00:00              0              0              1   \n2015-03-04 02:00:00              0              0              1   \n2015-03-04 03:00:00              0              0              1   \n\n                     day_of_week_3  day_of_week_4  day_of_week_5  \\\nDateTime                                                           \n2015-03-03 23:00:00              0              0              0   \n2015-03-04 00:00:00              0              0              0   \n2015-03-04 01:00:00              0              0              0   \n2015-03-04 02:00:00              0              0              0   \n2015-03-04 03:00:00              0              0              0   \n\n                     day_of_week_6  \nDateTime                            \n2015-03-03 23:00:00              0  \n2015-03-04 00:00:00              0  \n2015-03-04 01:00:00              0  \n2015-03-04 02:00:00              0  \n2015-03-04 03:00:00              0  \n\n[5 rows x 48 columns]",
      "text/html": "<div>\n<style scoped>\n    .dataframe tbody tr th:only-of-type {\n        vertical-align: middle;\n    }\n\n    .dataframe tbody tr th {\n        vertical-align: top;\n    }\n\n    .dataframe thead th {\n        text-align: right;\n    }\n</style>\n<table border=\"1\" class=\"dataframe\">\n  <thead>\n    <tr style=\"text-align: right;\">\n      <th></th>\n      <th>DE_Solar</th>\n      <th>DK1_Solar</th>\n      <th>DK2_Solar</th>\n      <th>DK_Wind</th>\n      <th>NO_Wind</th>\n      <th>DE_Wind</th>\n      <th>SE_Wind</th>\n      <th>DK1_price</th>\n      <th>DE_price</th>\n      <th>DE_Solar_lag_1</th>\n      <th>...</th>\n      <th>DE_price_lag_2</th>\n      <th>DE_price_lag_3</th>\n      <th>DE_price_lag_7</th>\n      <th>day_of_week_0</th>\n      <th>day_of_week_1</th>\n      <th>day_of_week_2</th>\n      <th>day_of_week_3</th>\n      <th>day_of_week_4</th>\n      <th>day_of_week_5</th>\n      <th>day_of_week_6</th>\n    </tr>\n    <tr>\n      <th>DateTime</th>\n      <th></th>\n      <th></th>\n      <th></th>\n      <th></th>\n      <th></th>\n      <th></th>\n      <th></th>\n      <th></th>\n      <th></th>\n      <th></th>\n      <th></th>\n      <th></th>\n      <th></th>\n      <th></th>\n      <th></th>\n      <th></th>\n      <th></th>\n      <th></th>\n      <th></th>\n      <th></th>\n      <th></th>\n    </tr>\n  </thead>\n  <tbody>\n    <tr>\n      <th>2015-03-03 23:00:00</th>\n      <td>0.0</td>\n      <td>0.0</td>\n      <td>0.0</td>\n      <td>974.68</td>\n      <td>93.27</td>\n      <td>14102.28</td>\n      <td>921.48</td>\n      <td>24.44</td>\n      <td>23.31</td>\n      <td>0.0</td>\n      <td>...</td>\n      <td>18.00</td>\n      <td>11.76</td>\n      <td>29.62</td>\n      <td>0</td>\n      <td>1</td>\n      <td>0</td>\n      <td>0</td>\n      <td>0</td>\n      <td>0</td>\n      <td>0</td>\n    </tr>\n    <tr>\n      <th>2015-03-04 00:00:00</th>\n      <td>0.0</td>\n      <td>0.0</td>\n      <td>0.0</td>\n      <td>1080.81</td>\n      <td>105.96</td>\n      <td>15577.88</td>\n      <td>882.03</td>\n      <td>23.80</td>\n      <td>16.25</td>\n      <td>0.0</td>\n      <td>...</td>\n      <td>15.38</td>\n      <td>4.20</td>\n      <td>30.04</td>\n      <td>0</td>\n      <td>0</td>\n      <td>1</td>\n      <td>0</td>\n      <td>0</td>\n      <td>0</td>\n      <td>0</td>\n    </tr>\n    <tr>\n      <th>2015-03-04 01:00:00</th>\n      <td>0.0</td>\n      <td>0.0</td>\n      <td>0.0</td>\n      <td>1112.65</td>\n      <td>108.83</td>\n      <td>15496.93</td>\n      <td>856.06</td>\n      <td>23.38</td>\n      <td>15.37</td>\n      <td>0.0</td>\n      <td>...</td>\n      <td>15.10</td>\n      <td>-0.05</td>\n      <td>28.68</td>\n      <td>0</td>\n      <td>0</td>\n      <td>1</td>\n      <td>0</td>\n      <td>0</td>\n      <td>0</td>\n      <td>0</td>\n    </tr>\n    <tr>\n      <th>2015-03-04 02:00:00</th>\n      <td>0.0</td>\n      <td>0.0</td>\n      <td>0.0</td>\n      <td>1120.14</td>\n      <td>144.66</td>\n      <td>15667.33</td>\n      <td>840.29</td>\n      <td>23.62</td>\n      <td>15.50</td>\n      <td>0.0</td>\n      <td>...</td>\n      <td>13.00</td>\n      <td>-0.09</td>\n      <td>29.45</td>\n      <td>0</td>\n      <td>0</td>\n      <td>1</td>\n      <td>0</td>\n      <td>0</td>\n      <td>0</td>\n      <td>0</td>\n    </tr>\n    <tr>\n      <th>2015-03-04 03:00:00</th>\n      <td>0.0</td>\n      <td>0.0</td>\n      <td>0.0</td>\n      <td>1110.01</td>\n      <td>129.67</td>\n      <td>15806.69</td>\n      <td>848.01</td>\n      <td>24.43</td>\n      <td>18.04</td>\n      <td>0.0</td>\n      <td>...</td>\n      <td>12.00</td>\n      <td>-2.00</td>\n      <td>30.02</td>\n      <td>0</td>\n      <td>0</td>\n      <td>1</td>\n      <td>0</td>\n      <td>0</td>\n      <td>0</td>\n      <td>0</td>\n    </tr>\n  </tbody>\n</table>\n<p>5 rows × 48 columns</p>\n</div>"
     },
     "execution_count": 4,
     "metadata": {},
     "output_type": "execute_result"
    }
   ],
   "source": [
    "df.head()"
   ],
   "metadata": {
    "collapsed": false
   }
  },
  {
   "cell_type": "code",
   "execution_count": 5,
   "outputs": [],
   "source": [
    "# split into X and y\n",
    "y = df[target_col]\n",
    "X = df.drop(target_col, axis=1)"
   ],
   "metadata": {
    "collapsed": false
   }
  },
  {
   "cell_type": "code",
   "execution_count": 6,
   "outputs": [],
   "source": [
    "# Pivot hourly index out to columns so index is only date\n",
    "pivot_columns = [col for col in X.columns if not col.startswith('day_of_week')]\n",
    "X = X.pivot_table(index=X.index.date, columns=X.index.hour, values=pivot_columns)\n",
    "X = X.dropna()\n",
    "# Some hours will only have 0 values, drop these columns (e.g. Solar)\n",
    "X = X.loc[:, (X != 0).any(axis=0)]\n",
    "# and some are 0 almost always, drop features with a MAD below threshold\n",
    "X = X.loc[:, X.sub(X.median(axis=0), axis=1).abs().median(axis=0) > 0.01]\n",
    "\n",
    "# apparently all variables need to be named Exogenous 1, 2, 3, etc.\n",
    "X.columns = ['Exogenous ' + str(i) for i in range(1, X.shape[1] + 1)]\n"
   ],
   "metadata": {
    "collapsed": false
   }
  },
  {
   "cell_type": "code",
   "execution_count": 7,
   "outputs": [
    {
     "data": {
      "text/plain": "            Exogenous 1  Exogenous 2  Exogenous 3  Exogenous 4  Exogenous 5  \\\n2015-03-04         1.61       135.51      2802.50      6947.57     10611.86   \n2015-03-05         1.07        97.39      1746.14      4820.43      8451.17   \n2015-03-06         4.82       182.01      2133.91      5133.71      7904.90   \n2015-03-07         5.82       396.18      3934.54      8869.36     13397.02   \n2015-03-08         5.35       407.54      4755.75     10486.90     15682.61   \n\n            Exogenous 6  Exogenous 7  Exogenous 8  Exogenous 9  Exogenous 10  \\\n2015-03-04     12958.45     13903.10     13794.82     12197.60       9112.27   \n2015-03-05     11572.79     13332.19     13894.25     12971.14      10044.54   \n2015-03-06      9958.42     11006.77     10527.40      9209.14       7107.95   \n2015-03-07     16428.84     17644.92     17285.69     15063.98      11405.61   \n2015-03-08     19291.68     20827.72     20570.41     18463.58      14432.91   \n\n            ...  Exogenous 786  Exogenous 787  Exogenous 788  Exogenous 789  \\\n2015-03-04  ...        1462.12        1404.33        1353.95        1371.81   \n2015-03-05  ...        2411.63        2620.96        2812.71        3009.21   \n2015-03-06  ...        2190.45        2069.54        1976.02        1931.76   \n2015-03-07  ...        2407.09        2582.73        2717.26        2865.11   \n2015-03-08  ...        4162.51        3996.05        3843.11        3685.99   \n\n            Exogenous 790  Exogenous 791  Exogenous 792  Exogenous 793  \\\n2015-03-04        1380.46        1323.80        1254.40        1193.39   \n2015-03-05        3170.08        3297.00        3377.08        3384.15   \n2015-03-06        1903.50        1897.43        1862.16        1802.85   \n2015-03-07        2974.29        3098.53        3219.09        3313.39   \n2015-03-08        3571.14        3452.32        3352.56        3254.99   \n\n            Exogenous 794  Exogenous 795  \n2015-03-04        1138.35        1110.53  \n2015-03-05        3349.22        3656.43  \n2015-03-06        1743.52        1493.72  \n2015-03-07        3383.36        3497.89  \n2015-03-08        3159.89        3188.75  \n\n[5 rows x 795 columns]",
      "text/html": "<div>\n<style scoped>\n    .dataframe tbody tr th:only-of-type {\n        vertical-align: middle;\n    }\n\n    .dataframe tbody tr th {\n        vertical-align: top;\n    }\n\n    .dataframe thead th {\n        text-align: right;\n    }\n</style>\n<table border=\"1\" class=\"dataframe\">\n  <thead>\n    <tr style=\"text-align: right;\">\n      <th></th>\n      <th>Exogenous 1</th>\n      <th>Exogenous 2</th>\n      <th>Exogenous 3</th>\n      <th>Exogenous 4</th>\n      <th>Exogenous 5</th>\n      <th>Exogenous 6</th>\n      <th>Exogenous 7</th>\n      <th>Exogenous 8</th>\n      <th>Exogenous 9</th>\n      <th>Exogenous 10</th>\n      <th>...</th>\n      <th>Exogenous 786</th>\n      <th>Exogenous 787</th>\n      <th>Exogenous 788</th>\n      <th>Exogenous 789</th>\n      <th>Exogenous 790</th>\n      <th>Exogenous 791</th>\n      <th>Exogenous 792</th>\n      <th>Exogenous 793</th>\n      <th>Exogenous 794</th>\n      <th>Exogenous 795</th>\n    </tr>\n  </thead>\n  <tbody>\n    <tr>\n      <th>2015-03-04</th>\n      <td>1.61</td>\n      <td>135.51</td>\n      <td>2802.50</td>\n      <td>6947.57</td>\n      <td>10611.86</td>\n      <td>12958.45</td>\n      <td>13903.10</td>\n      <td>13794.82</td>\n      <td>12197.60</td>\n      <td>9112.27</td>\n      <td>...</td>\n      <td>1462.12</td>\n      <td>1404.33</td>\n      <td>1353.95</td>\n      <td>1371.81</td>\n      <td>1380.46</td>\n      <td>1323.80</td>\n      <td>1254.40</td>\n      <td>1193.39</td>\n      <td>1138.35</td>\n      <td>1110.53</td>\n    </tr>\n    <tr>\n      <th>2015-03-05</th>\n      <td>1.07</td>\n      <td>97.39</td>\n      <td>1746.14</td>\n      <td>4820.43</td>\n      <td>8451.17</td>\n      <td>11572.79</td>\n      <td>13332.19</td>\n      <td>13894.25</td>\n      <td>12971.14</td>\n      <td>10044.54</td>\n      <td>...</td>\n      <td>2411.63</td>\n      <td>2620.96</td>\n      <td>2812.71</td>\n      <td>3009.21</td>\n      <td>3170.08</td>\n      <td>3297.00</td>\n      <td>3377.08</td>\n      <td>3384.15</td>\n      <td>3349.22</td>\n      <td>3656.43</td>\n    </tr>\n    <tr>\n      <th>2015-03-06</th>\n      <td>4.82</td>\n      <td>182.01</td>\n      <td>2133.91</td>\n      <td>5133.71</td>\n      <td>7904.90</td>\n      <td>9958.42</td>\n      <td>11006.77</td>\n      <td>10527.40</td>\n      <td>9209.14</td>\n      <td>7107.95</td>\n      <td>...</td>\n      <td>2190.45</td>\n      <td>2069.54</td>\n      <td>1976.02</td>\n      <td>1931.76</td>\n      <td>1903.50</td>\n      <td>1897.43</td>\n      <td>1862.16</td>\n      <td>1802.85</td>\n      <td>1743.52</td>\n      <td>1493.72</td>\n    </tr>\n    <tr>\n      <th>2015-03-07</th>\n      <td>5.82</td>\n      <td>396.18</td>\n      <td>3934.54</td>\n      <td>8869.36</td>\n      <td>13397.02</td>\n      <td>16428.84</td>\n      <td>17644.92</td>\n      <td>17285.69</td>\n      <td>15063.98</td>\n      <td>11405.61</td>\n      <td>...</td>\n      <td>2407.09</td>\n      <td>2582.73</td>\n      <td>2717.26</td>\n      <td>2865.11</td>\n      <td>2974.29</td>\n      <td>3098.53</td>\n      <td>3219.09</td>\n      <td>3313.39</td>\n      <td>3383.36</td>\n      <td>3497.89</td>\n    </tr>\n    <tr>\n      <th>2015-03-08</th>\n      <td>5.35</td>\n      <td>407.54</td>\n      <td>4755.75</td>\n      <td>10486.90</td>\n      <td>15682.61</td>\n      <td>19291.68</td>\n      <td>20827.72</td>\n      <td>20570.41</td>\n      <td>18463.58</td>\n      <td>14432.91</td>\n      <td>...</td>\n      <td>4162.51</td>\n      <td>3996.05</td>\n      <td>3843.11</td>\n      <td>3685.99</td>\n      <td>3571.14</td>\n      <td>3452.32</td>\n      <td>3352.56</td>\n      <td>3254.99</td>\n      <td>3159.89</td>\n      <td>3188.75</td>\n    </tr>\n  </tbody>\n</table>\n<p>5 rows × 795 columns</p>\n</div>"
     },
     "execution_count": 7,
     "metadata": {},
     "output_type": "execute_result"
    }
   ],
   "source": [
    "X.head()"
   ],
   "metadata": {
    "collapsed": false
   }
  },
  {
   "cell_type": "code",
   "execution_count": 8,
   "outputs": [],
   "source": [
    "# now y\n",
    "# make y to dataframe first\n",
    "y = y.rename('Price')\n",
    "y = pd.DataFrame(y)\n",
    "y = y.pivot_table(index=y.index.date, columns=y.index.hour, values=y.columns)\n",
    "# join multiindex columns to one, price with hour number\n",
    "y = y.dropna()\n",
    "# rename to 'Price' for some reason for this toolbox to work\n"
   ],
   "metadata": {
    "collapsed": false
   }
  },
  {
   "cell_type": "code",
   "execution_count": 9,
   "outputs": [
    {
     "data": {
      "text/plain": "            Price                                                          \\\nDateTime       0      1      2      3      4      5      6      7      8    \n2015-03-04  23.80  23.38  23.62  24.43  25.52  26.80  28.36  29.41  28.12   \n2015-03-05  24.28  24.02  24.25  24.97  25.63  26.83  29.03  37.89  36.22   \n2015-03-06  24.38  23.96  23.94  24.85  25.57  26.28  27.44  31.89  33.82   \n2015-03-07  22.79  22.00  21.70  21.39  21.50  21.78  21.95  22.25  23.07   \n2015-03-08  15.59  15.92  15.57  16.24  16.90  15.53  18.64  20.08  21.42   \n\n                   ...                                                   \\\nDateTime       9   ...     14     15     16     17     18     19     20   \n2015-03-04  26.99  ...  26.51  26.67  27.26  28.35  27.49  27.01  26.62   \n2015-03-05  29.73  ...  33.91  36.25  45.71  50.91  42.20  27.10  26.71   \n2015-03-06  32.02  ...  26.29  26.31  27.37  31.82  27.24  26.14  25.80   \n2015-03-07  23.31  ...  22.09  22.73  23.85  24.42  24.24  23.26  22.29   \n2015-03-08  21.42  ...  21.46  22.03  24.46  25.31  25.28  25.00  24.55   \n\n                                 \nDateTime       21     22     23  \n2015-03-04  26.28  25.22  25.02  \n2015-03-05  26.19  25.54  25.04  \n2015-03-06  25.52  25.04  23.62  \n2015-03-07  22.12  21.72  17.73  \n2015-03-08  23.75  22.69  22.26  \n\n[5 rows x 24 columns]",
      "text/html": "<div>\n<style scoped>\n    .dataframe tbody tr th:only-of-type {\n        vertical-align: middle;\n    }\n\n    .dataframe tbody tr th {\n        vertical-align: top;\n    }\n\n    .dataframe thead tr th {\n        text-align: left;\n    }\n</style>\n<table border=\"1\" class=\"dataframe\">\n  <thead>\n    <tr>\n      <th></th>\n      <th colspan=\"21\" halign=\"left\">Price</th>\n    </tr>\n    <tr>\n      <th>DateTime</th>\n      <th>0</th>\n      <th>1</th>\n      <th>2</th>\n      <th>3</th>\n      <th>4</th>\n      <th>5</th>\n      <th>6</th>\n      <th>7</th>\n      <th>8</th>\n      <th>9</th>\n      <th>...</th>\n      <th>14</th>\n      <th>15</th>\n      <th>16</th>\n      <th>17</th>\n      <th>18</th>\n      <th>19</th>\n      <th>20</th>\n      <th>21</th>\n      <th>22</th>\n      <th>23</th>\n    </tr>\n  </thead>\n  <tbody>\n    <tr>\n      <th>2015-03-04</th>\n      <td>23.80</td>\n      <td>23.38</td>\n      <td>23.62</td>\n      <td>24.43</td>\n      <td>25.52</td>\n      <td>26.80</td>\n      <td>28.36</td>\n      <td>29.41</td>\n      <td>28.12</td>\n      <td>26.99</td>\n      <td>...</td>\n      <td>26.51</td>\n      <td>26.67</td>\n      <td>27.26</td>\n      <td>28.35</td>\n      <td>27.49</td>\n      <td>27.01</td>\n      <td>26.62</td>\n      <td>26.28</td>\n      <td>25.22</td>\n      <td>25.02</td>\n    </tr>\n    <tr>\n      <th>2015-03-05</th>\n      <td>24.28</td>\n      <td>24.02</td>\n      <td>24.25</td>\n      <td>24.97</td>\n      <td>25.63</td>\n      <td>26.83</td>\n      <td>29.03</td>\n      <td>37.89</td>\n      <td>36.22</td>\n      <td>29.73</td>\n      <td>...</td>\n      <td>33.91</td>\n      <td>36.25</td>\n      <td>45.71</td>\n      <td>50.91</td>\n      <td>42.20</td>\n      <td>27.10</td>\n      <td>26.71</td>\n      <td>26.19</td>\n      <td>25.54</td>\n      <td>25.04</td>\n    </tr>\n    <tr>\n      <th>2015-03-06</th>\n      <td>24.38</td>\n      <td>23.96</td>\n      <td>23.94</td>\n      <td>24.85</td>\n      <td>25.57</td>\n      <td>26.28</td>\n      <td>27.44</td>\n      <td>31.89</td>\n      <td>33.82</td>\n      <td>32.02</td>\n      <td>...</td>\n      <td>26.29</td>\n      <td>26.31</td>\n      <td>27.37</td>\n      <td>31.82</td>\n      <td>27.24</td>\n      <td>26.14</td>\n      <td>25.80</td>\n      <td>25.52</td>\n      <td>25.04</td>\n      <td>23.62</td>\n    </tr>\n    <tr>\n      <th>2015-03-07</th>\n      <td>22.79</td>\n      <td>22.00</td>\n      <td>21.70</td>\n      <td>21.39</td>\n      <td>21.50</td>\n      <td>21.78</td>\n      <td>21.95</td>\n      <td>22.25</td>\n      <td>23.07</td>\n      <td>23.31</td>\n      <td>...</td>\n      <td>22.09</td>\n      <td>22.73</td>\n      <td>23.85</td>\n      <td>24.42</td>\n      <td>24.24</td>\n      <td>23.26</td>\n      <td>22.29</td>\n      <td>22.12</td>\n      <td>21.72</td>\n      <td>17.73</td>\n    </tr>\n    <tr>\n      <th>2015-03-08</th>\n      <td>15.59</td>\n      <td>15.92</td>\n      <td>15.57</td>\n      <td>16.24</td>\n      <td>16.90</td>\n      <td>15.53</td>\n      <td>18.64</td>\n      <td>20.08</td>\n      <td>21.42</td>\n      <td>21.42</td>\n      <td>...</td>\n      <td>21.46</td>\n      <td>22.03</td>\n      <td>24.46</td>\n      <td>25.31</td>\n      <td>25.28</td>\n      <td>25.00</td>\n      <td>24.55</td>\n      <td>23.75</td>\n      <td>22.69</td>\n      <td>22.26</td>\n    </tr>\n  </tbody>\n</table>\n<p>5 rows × 24 columns</p>\n</div>"
     },
     "execution_count": 9,
     "metadata": {},
     "output_type": "execute_result"
    }
   ],
   "source": [
    "y.head()"
   ],
   "metadata": {
    "collapsed": false
   }
  },
  {
   "cell_type": "code",
   "execution_count": 10,
   "outputs": [],
   "source": [
    "\n",
    "\n",
    "##### temporary start cut off as well to see if it works\n",
    "#start_cutoff = pd.to_datetime('2019-01-01 00:00')\n",
    "val_cutoff = pd.to_datetime('2020-07-01')\n",
    "test_cutoff = pd.to_datetime('2021-01-01')\n",
    "#X_train = X.loc[X.index >= start_cutoff & X.index < val_cutoff]\n",
    "X_train = X.loc[X.index < val_cutoff]\n",
    "X_val = X.loc[(X.index >= val_cutoff) & (X.index < test_cutoff)]\n",
    "X_test = X.loc[X.index >= test_cutoff]\n",
    "#y_train = y.loc[y.index < val_cutoff & y.index >= start_cutoff]\n",
    "y_train = y.loc[y.index < val_cutoff]\n",
    "y_val = y.loc[(y.index >= val_cutoff) & (y.index < test_cutoff)]\n",
    "y_test = y.loc[y.index >= test_cutoff]"
   ],
   "metadata": {
    "collapsed": false
   }
  },
  {
   "cell_type": "code",
   "execution_count": 11,
   "outputs": [
    {
     "data": {
      "text/plain": "            Exogenous 1  Exogenous 2  Exogenous 3  Exogenous 4  Exogenous 5  \\\n2015-03-04         1.61       135.51      2802.50      6947.57     10611.86   \n2015-03-05         1.07        97.39      1746.14      4820.43      8451.17   \n2015-03-06         4.82       182.01      2133.91      5133.71      7904.90   \n2015-03-07         5.82       396.18      3934.54      8869.36     13397.02   \n2015-03-08         5.35       407.54      4755.75     10486.90     15682.61   \n...                 ...          ...          ...          ...          ...   \n2022-12-27         0.00         0.00        47.84      1750.31      4711.27   \n2022-12-28         0.00         0.00        29.88      1097.06      2749.71   \n2022-12-29         0.00         0.00        20.41      1451.16      3915.38   \n2022-12-30         0.00         0.00        35.85      2514.91      6953.79   \n2022-12-31         0.00         0.00        13.58      1270.03      3406.69   \n\n            Exogenous 6  Exogenous 7  Exogenous 8  Exogenous 9  Exogenous 10  \\\n2015-03-04     12958.45     13903.10     13794.82     12197.60       9112.27   \n2015-03-05     11572.79     13332.19     13894.25     12971.14      10044.54   \n2015-03-06      9958.42     11006.77     10527.40      9209.14       7107.95   \n2015-03-07     16428.84     17644.92     17285.69     15063.98      11405.61   \n2015-03-08     19291.68     20827.72     20570.41     18463.58      14432.91   \n...                 ...          ...          ...          ...           ...   \n2022-12-27      7346.73      8618.44      8043.63      6039.77       2752.80   \n2022-12-28      4287.79      5198.15      4939.23      3591.65       1809.27   \n2022-12-29      6092.62      7157.69      6731.00      5070.41       2314.00   \n2022-12-30     10357.79     11230.83      9424.72      6146.10       2476.54   \n2022-12-31      5800.74      7376.32      7312.14      5599.97       2836.56   \n\n            ...  Exogenous 786  Exogenous 787  Exogenous 788  Exogenous 789  \\\n2015-03-04  ...        1462.12        1404.33        1353.95        1371.81   \n2015-03-05  ...        2411.63        2620.96        2812.71        3009.21   \n2015-03-06  ...        2190.45        2069.54        1976.02        1931.76   \n2015-03-07  ...        2407.09        2582.73        2717.26        2865.11   \n2015-03-08  ...        4162.51        3996.05        3843.11        3685.99   \n...         ...            ...            ...            ...            ...   \n2022-12-27  ...        3502.10        3406.35        3285.42        3157.04   \n2022-12-28  ...        2925.08        2996.64        3109.74        3266.29   \n2022-12-29  ...        4093.50        4261.85        4503.01        4728.38   \n2022-12-30  ...        5965.31        6113.25        6307.21        6326.51   \n2022-12-31  ...        5433.90        5398.36        5350.31        5267.17   \n\n            Exogenous 790  Exogenous 791  Exogenous 792  Exogenous 793  \\\n2015-03-04        1380.46        1323.80        1254.40        1193.39   \n2015-03-05        3170.08        3297.00        3377.08        3384.15   \n2015-03-06        1903.50        1897.43        1862.16        1802.85   \n2015-03-07        2974.29        3098.53        3219.09        3313.39   \n2015-03-08        3571.14        3452.32        3352.56        3254.99   \n...                   ...            ...            ...            ...   \n2022-12-27        3077.65        3025.82        2983.10        2933.27   \n2022-12-28        3450.58        3642.46        3842.31        4030.38   \n2022-12-29        4972.37        5203.29        5379.01        5490.52   \n2022-12-30        6288.97        6213.99        6162.93        6168.45   \n2022-12-31        5197.39        5131.92        5018.10        4908.73   \n\n            Exogenous 794  Exogenous 795  \n2015-03-04        1138.35        1110.53  \n2015-03-05        3349.22        3656.43  \n2015-03-06        1743.52        1493.72  \n2015-03-07        3383.36        3497.89  \n2015-03-08        3159.89        3188.75  \n...                   ...            ...  \n2022-12-27        2891.78        2900.04  \n2022-12-28        4165.30        3778.74  \n2022-12-29        5588.04        5576.82  \n2022-12-30        6182.59        6356.44  \n2022-12-31        4834.57        5173.58  \n\n[2860 rows x 795 columns]",
      "text/html": "<div>\n<style scoped>\n    .dataframe tbody tr th:only-of-type {\n        vertical-align: middle;\n    }\n\n    .dataframe tbody tr th {\n        vertical-align: top;\n    }\n\n    .dataframe thead th {\n        text-align: right;\n    }\n</style>\n<table border=\"1\" class=\"dataframe\">\n  <thead>\n    <tr style=\"text-align: right;\">\n      <th></th>\n      <th>Exogenous 1</th>\n      <th>Exogenous 2</th>\n      <th>Exogenous 3</th>\n      <th>Exogenous 4</th>\n      <th>Exogenous 5</th>\n      <th>Exogenous 6</th>\n      <th>Exogenous 7</th>\n      <th>Exogenous 8</th>\n      <th>Exogenous 9</th>\n      <th>Exogenous 10</th>\n      <th>...</th>\n      <th>Exogenous 786</th>\n      <th>Exogenous 787</th>\n      <th>Exogenous 788</th>\n      <th>Exogenous 789</th>\n      <th>Exogenous 790</th>\n      <th>Exogenous 791</th>\n      <th>Exogenous 792</th>\n      <th>Exogenous 793</th>\n      <th>Exogenous 794</th>\n      <th>Exogenous 795</th>\n    </tr>\n  </thead>\n  <tbody>\n    <tr>\n      <th>2015-03-04</th>\n      <td>1.61</td>\n      <td>135.51</td>\n      <td>2802.50</td>\n      <td>6947.57</td>\n      <td>10611.86</td>\n      <td>12958.45</td>\n      <td>13903.10</td>\n      <td>13794.82</td>\n      <td>12197.60</td>\n      <td>9112.27</td>\n      <td>...</td>\n      <td>1462.12</td>\n      <td>1404.33</td>\n      <td>1353.95</td>\n      <td>1371.81</td>\n      <td>1380.46</td>\n      <td>1323.80</td>\n      <td>1254.40</td>\n      <td>1193.39</td>\n      <td>1138.35</td>\n      <td>1110.53</td>\n    </tr>\n    <tr>\n      <th>2015-03-05</th>\n      <td>1.07</td>\n      <td>97.39</td>\n      <td>1746.14</td>\n      <td>4820.43</td>\n      <td>8451.17</td>\n      <td>11572.79</td>\n      <td>13332.19</td>\n      <td>13894.25</td>\n      <td>12971.14</td>\n      <td>10044.54</td>\n      <td>...</td>\n      <td>2411.63</td>\n      <td>2620.96</td>\n      <td>2812.71</td>\n      <td>3009.21</td>\n      <td>3170.08</td>\n      <td>3297.00</td>\n      <td>3377.08</td>\n      <td>3384.15</td>\n      <td>3349.22</td>\n      <td>3656.43</td>\n    </tr>\n    <tr>\n      <th>2015-03-06</th>\n      <td>4.82</td>\n      <td>182.01</td>\n      <td>2133.91</td>\n      <td>5133.71</td>\n      <td>7904.90</td>\n      <td>9958.42</td>\n      <td>11006.77</td>\n      <td>10527.40</td>\n      <td>9209.14</td>\n      <td>7107.95</td>\n      <td>...</td>\n      <td>2190.45</td>\n      <td>2069.54</td>\n      <td>1976.02</td>\n      <td>1931.76</td>\n      <td>1903.50</td>\n      <td>1897.43</td>\n      <td>1862.16</td>\n      <td>1802.85</td>\n      <td>1743.52</td>\n      <td>1493.72</td>\n    </tr>\n    <tr>\n      <th>2015-03-07</th>\n      <td>5.82</td>\n      <td>396.18</td>\n      <td>3934.54</td>\n      <td>8869.36</td>\n      <td>13397.02</td>\n      <td>16428.84</td>\n      <td>17644.92</td>\n      <td>17285.69</td>\n      <td>15063.98</td>\n      <td>11405.61</td>\n      <td>...</td>\n      <td>2407.09</td>\n      <td>2582.73</td>\n      <td>2717.26</td>\n      <td>2865.11</td>\n      <td>2974.29</td>\n      <td>3098.53</td>\n      <td>3219.09</td>\n      <td>3313.39</td>\n      <td>3383.36</td>\n      <td>3497.89</td>\n    </tr>\n    <tr>\n      <th>2015-03-08</th>\n      <td>5.35</td>\n      <td>407.54</td>\n      <td>4755.75</td>\n      <td>10486.90</td>\n      <td>15682.61</td>\n      <td>19291.68</td>\n      <td>20827.72</td>\n      <td>20570.41</td>\n      <td>18463.58</td>\n      <td>14432.91</td>\n      <td>...</td>\n      <td>4162.51</td>\n      <td>3996.05</td>\n      <td>3843.11</td>\n      <td>3685.99</td>\n      <td>3571.14</td>\n      <td>3452.32</td>\n      <td>3352.56</td>\n      <td>3254.99</td>\n      <td>3159.89</td>\n      <td>3188.75</td>\n    </tr>\n    <tr>\n      <th>...</th>\n      <td>...</td>\n      <td>...</td>\n      <td>...</td>\n      <td>...</td>\n      <td>...</td>\n      <td>...</td>\n      <td>...</td>\n      <td>...</td>\n      <td>...</td>\n      <td>...</td>\n      <td>...</td>\n      <td>...</td>\n      <td>...</td>\n      <td>...</td>\n      <td>...</td>\n      <td>...</td>\n      <td>...</td>\n      <td>...</td>\n      <td>...</td>\n      <td>...</td>\n      <td>...</td>\n    </tr>\n    <tr>\n      <th>2022-12-27</th>\n      <td>0.00</td>\n      <td>0.00</td>\n      <td>47.84</td>\n      <td>1750.31</td>\n      <td>4711.27</td>\n      <td>7346.73</td>\n      <td>8618.44</td>\n      <td>8043.63</td>\n      <td>6039.77</td>\n      <td>2752.80</td>\n      <td>...</td>\n      <td>3502.10</td>\n      <td>3406.35</td>\n      <td>3285.42</td>\n      <td>3157.04</td>\n      <td>3077.65</td>\n      <td>3025.82</td>\n      <td>2983.10</td>\n      <td>2933.27</td>\n      <td>2891.78</td>\n      <td>2900.04</td>\n    </tr>\n    <tr>\n      <th>2022-12-28</th>\n      <td>0.00</td>\n      <td>0.00</td>\n      <td>29.88</td>\n      <td>1097.06</td>\n      <td>2749.71</td>\n      <td>4287.79</td>\n      <td>5198.15</td>\n      <td>4939.23</td>\n      <td>3591.65</td>\n      <td>1809.27</td>\n      <td>...</td>\n      <td>2925.08</td>\n      <td>2996.64</td>\n      <td>3109.74</td>\n      <td>3266.29</td>\n      <td>3450.58</td>\n      <td>3642.46</td>\n      <td>3842.31</td>\n      <td>4030.38</td>\n      <td>4165.30</td>\n      <td>3778.74</td>\n    </tr>\n    <tr>\n      <th>2022-12-29</th>\n      <td>0.00</td>\n      <td>0.00</td>\n      <td>20.41</td>\n      <td>1451.16</td>\n      <td>3915.38</td>\n      <td>6092.62</td>\n      <td>7157.69</td>\n      <td>6731.00</td>\n      <td>5070.41</td>\n      <td>2314.00</td>\n      <td>...</td>\n      <td>4093.50</td>\n      <td>4261.85</td>\n      <td>4503.01</td>\n      <td>4728.38</td>\n      <td>4972.37</td>\n      <td>5203.29</td>\n      <td>5379.01</td>\n      <td>5490.52</td>\n      <td>5588.04</td>\n      <td>5576.82</td>\n    </tr>\n    <tr>\n      <th>2022-12-30</th>\n      <td>0.00</td>\n      <td>0.00</td>\n      <td>35.85</td>\n      <td>2514.91</td>\n      <td>6953.79</td>\n      <td>10357.79</td>\n      <td>11230.83</td>\n      <td>9424.72</td>\n      <td>6146.10</td>\n      <td>2476.54</td>\n      <td>...</td>\n      <td>5965.31</td>\n      <td>6113.25</td>\n      <td>6307.21</td>\n      <td>6326.51</td>\n      <td>6288.97</td>\n      <td>6213.99</td>\n      <td>6162.93</td>\n      <td>6168.45</td>\n      <td>6182.59</td>\n      <td>6356.44</td>\n    </tr>\n    <tr>\n      <th>2022-12-31</th>\n      <td>0.00</td>\n      <td>0.00</td>\n      <td>13.58</td>\n      <td>1270.03</td>\n      <td>3406.69</td>\n      <td>5800.74</td>\n      <td>7376.32</td>\n      <td>7312.14</td>\n      <td>5599.97</td>\n      <td>2836.56</td>\n      <td>...</td>\n      <td>5433.90</td>\n      <td>5398.36</td>\n      <td>5350.31</td>\n      <td>5267.17</td>\n      <td>5197.39</td>\n      <td>5131.92</td>\n      <td>5018.10</td>\n      <td>4908.73</td>\n      <td>4834.57</td>\n      <td>5173.58</td>\n    </tr>\n  </tbody>\n</table>\n<p>2860 rows × 795 columns</p>\n</div>"
     },
     "execution_count": 11,
     "metadata": {},
     "output_type": "execute_result"
    }
   ],
   "source": [
    "X"
   ],
   "metadata": {
    "collapsed": false
   }
  },
  {
   "cell_type": "code",
   "execution_count": 12,
   "outputs": [],
   "source": [
    "# split into train and test\n",
    "# set start time as first time in index where hour is 0\n",
    "#\n",
    "# start_time = X[X.index.hour == 0].index[0]\n",
    "# test_cutoff = pd.to_datetime('2021-01-01 00:00')\n",
    "# X = X[X.index >= start_time]\n",
    "# y = y[y.index >= start_time]\n",
    "#\n",
    "# # subtract one hour\n",
    "# X_train, X_test = X[X.index < test_cutoff], X[X.index >= test_cutoff]\n",
    "# y_train, y_test = y[y.index < test_cutoff], y[y.index >= test_cutoff]"
   ],
   "metadata": {
    "collapsed": false
   }
  },
  {
   "cell_type": "code",
   "execution_count": 13,
   "outputs": [],
   "source": [
    "# split into train and validation\n",
    "#X_train, X_val, y_train, y_val = train_test_split(X_train, y_train, test_size=0.2, shuffle=False)"
   ],
   "metadata": {
    "collapsed": false
   }
  },
  {
   "cell_type": "code",
   "execution_count": 14,
   "outputs": [
    {
     "data": {
      "text/plain": "            Price                                                          \\\nDateTime       0      1      2      3      4      5      6      7      8    \n2021-01-01  48.19  44.68  42.92  40.39  40.20  39.63  40.09  41.27  44.88   \n2021-01-02  42.43  41.09  40.00  37.55  39.00  42.09  44.96  48.45  52.00   \n2021-01-03  41.59  37.21  35.18  24.65  23.85  24.05  24.80  24.97  25.65   \n2021-01-04  24.05  23.88  24.03  24.58  25.84  28.21  30.85  49.20  50.02   \n2021-01-05  27.45  27.08  27.14  27.79  29.81  35.78  53.64  60.00  60.12   \n\n                   ...                                                   \\\nDateTime       9   ...     14     15     16     17     18     19     20   \n2021-01-01  45.00  ...  46.59  52.99  60.26  60.61  60.36  57.40  53.86   \n2021-01-02  52.00  ...  53.45  59.99  62.00  63.08  62.17  60.03  55.03   \n2021-01-03  26.00  ...  26.50  28.05  28.53  28.17  27.92  27.56  27.04   \n2021-01-04  55.40  ...  58.03  60.50  65.22  60.05  53.73  37.68  34.82   \n2021-01-05  61.18  ...  62.51  64.26  65.60  60.13  54.66  40.78  39.60   \n\n                                 \nDateTime       21     22     23  \n2021-01-01  53.45  49.72  46.69  \n2021-01-02  52.25  48.45  46.11  \n2021-01-03  26.18  24.92  24.66  \n2021-01-04  30.95  27.35  27.81  \n2021-01-05  32.06  29.21  29.83  \n\n[5 rows x 24 columns]",
      "text/html": "<div>\n<style scoped>\n    .dataframe tbody tr th:only-of-type {\n        vertical-align: middle;\n    }\n\n    .dataframe tbody tr th {\n        vertical-align: top;\n    }\n\n    .dataframe thead tr th {\n        text-align: left;\n    }\n</style>\n<table border=\"1\" class=\"dataframe\">\n  <thead>\n    <tr>\n      <th></th>\n      <th colspan=\"21\" halign=\"left\">Price</th>\n    </tr>\n    <tr>\n      <th>DateTime</th>\n      <th>0</th>\n      <th>1</th>\n      <th>2</th>\n      <th>3</th>\n      <th>4</th>\n      <th>5</th>\n      <th>6</th>\n      <th>7</th>\n      <th>8</th>\n      <th>9</th>\n      <th>...</th>\n      <th>14</th>\n      <th>15</th>\n      <th>16</th>\n      <th>17</th>\n      <th>18</th>\n      <th>19</th>\n      <th>20</th>\n      <th>21</th>\n      <th>22</th>\n      <th>23</th>\n    </tr>\n  </thead>\n  <tbody>\n    <tr>\n      <th>2021-01-01</th>\n      <td>48.19</td>\n      <td>44.68</td>\n      <td>42.92</td>\n      <td>40.39</td>\n      <td>40.20</td>\n      <td>39.63</td>\n      <td>40.09</td>\n      <td>41.27</td>\n      <td>44.88</td>\n      <td>45.00</td>\n      <td>...</td>\n      <td>46.59</td>\n      <td>52.99</td>\n      <td>60.26</td>\n      <td>60.61</td>\n      <td>60.36</td>\n      <td>57.40</td>\n      <td>53.86</td>\n      <td>53.45</td>\n      <td>49.72</td>\n      <td>46.69</td>\n    </tr>\n    <tr>\n      <th>2021-01-02</th>\n      <td>42.43</td>\n      <td>41.09</td>\n      <td>40.00</td>\n      <td>37.55</td>\n      <td>39.00</td>\n      <td>42.09</td>\n      <td>44.96</td>\n      <td>48.45</td>\n      <td>52.00</td>\n      <td>52.00</td>\n      <td>...</td>\n      <td>53.45</td>\n      <td>59.99</td>\n      <td>62.00</td>\n      <td>63.08</td>\n      <td>62.17</td>\n      <td>60.03</td>\n      <td>55.03</td>\n      <td>52.25</td>\n      <td>48.45</td>\n      <td>46.11</td>\n    </tr>\n    <tr>\n      <th>2021-01-03</th>\n      <td>41.59</td>\n      <td>37.21</td>\n      <td>35.18</td>\n      <td>24.65</td>\n      <td>23.85</td>\n      <td>24.05</td>\n      <td>24.80</td>\n      <td>24.97</td>\n      <td>25.65</td>\n      <td>26.00</td>\n      <td>...</td>\n      <td>26.50</td>\n      <td>28.05</td>\n      <td>28.53</td>\n      <td>28.17</td>\n      <td>27.92</td>\n      <td>27.56</td>\n      <td>27.04</td>\n      <td>26.18</td>\n      <td>24.92</td>\n      <td>24.66</td>\n    </tr>\n    <tr>\n      <th>2021-01-04</th>\n      <td>24.05</td>\n      <td>23.88</td>\n      <td>24.03</td>\n      <td>24.58</td>\n      <td>25.84</td>\n      <td>28.21</td>\n      <td>30.85</td>\n      <td>49.20</td>\n      <td>50.02</td>\n      <td>55.40</td>\n      <td>...</td>\n      <td>58.03</td>\n      <td>60.50</td>\n      <td>65.22</td>\n      <td>60.05</td>\n      <td>53.73</td>\n      <td>37.68</td>\n      <td>34.82</td>\n      <td>30.95</td>\n      <td>27.35</td>\n      <td>27.81</td>\n    </tr>\n    <tr>\n      <th>2021-01-05</th>\n      <td>27.45</td>\n      <td>27.08</td>\n      <td>27.14</td>\n      <td>27.79</td>\n      <td>29.81</td>\n      <td>35.78</td>\n      <td>53.64</td>\n      <td>60.00</td>\n      <td>60.12</td>\n      <td>61.18</td>\n      <td>...</td>\n      <td>62.51</td>\n      <td>64.26</td>\n      <td>65.60</td>\n      <td>60.13</td>\n      <td>54.66</td>\n      <td>40.78</td>\n      <td>39.60</td>\n      <td>32.06</td>\n      <td>29.21</td>\n      <td>29.83</td>\n    </tr>\n  </tbody>\n</table>\n<p>5 rows × 24 columns</p>\n</div>"
     },
     "execution_count": 14,
     "metadata": {},
     "output_type": "execute_result"
    }
   ],
   "source": [
    "#start_time\n",
    "#pd.to_datetime('2021-01-01 00:00')\n",
    "y_test.head()"
   ],
   "metadata": {
    "collapsed": false
   }
  },
  {
   "cell_type": "code",
   "execution_count": 15,
   "outputs": [
    {
     "name": "stderr",
     "output_type": "stream",
     "text": [
      "2023-05-09 09:39:07,791 - __main__ - INFO - Predicting day 2022-01-01 00:00:00 (1/365)\n"
     ]
    },
    {
     "name": "stdout",
     "output_type": "stream",
     "text": [
      "MAE: 18.635865646837846\n",
      "MAE: 11.453427625401636\n",
      "MAE: 28.280955958713367\n",
      "MAE: 46.715294190591614\n",
      "MAE: 32.5433179802497\n",
      "MAE: 60.403027956729886\n",
      "MAE: 64.50351076748018\n",
      "MAE: 13.853541266126916\n",
      "MAE: 27.951152298459892\n",
      "MAE: 95.99482623150793\n",
      "MAE: 17.850644412721284\n",
      "MAE: 20.774506379507088\n",
      "MAE: 82.30703375423114\n",
      "MAE: 32.08857824598258\n",
      "MAE: 33.61905363661506\n",
      "MAE: 26.975876196626\n",
      "MAE: 18.742392905293087\n",
      "MAE: 39.61473332342037\n",
      "MAE: 45.55407141718064\n",
      "MAE: 23.611082285206475\n",
      "MAE: 18.736951603053686\n",
      "MAE: 32.309135763982766\n",
      "MAE: 16.069544093224767\n",
      "MAE: 25.55130141296682\n",
      "MAE: 33.17409047115891\n",
      "MAE: 13.930303287038365\n",
      "MAE: 50.85847515692985\n",
      "MAE: 25.193640019029406\n",
      "MAE: 22.294832102686097\n",
      "MAE: 21.628385494716895\n"
     ]
    },
    {
     "name": "stderr",
     "output_type": "stream",
     "text": [
      "2023-05-09 10:31:15,572 - __main__ - INFO - Predicting day 2022-02-01 00:00:00 (32/365)\n"
     ]
    },
    {
     "name": "stdout",
     "output_type": "stream",
     "text": [
      "MAE: 14.484453067845385\n",
      "MAE: 21.009366417715096\n",
      "MAE: 14.19825825406267\n",
      "MAE: 34.80346730760067\n",
      "MAE: 17.735944939121406\n",
      "MAE: 33.75239467407936\n",
      "MAE: 17.082392017488175\n",
      "MAE: 18.43298806265177\n",
      "MAE: 22.619083799534266\n",
      "MAE: 19.593989215853913\n",
      "MAE: 9.855203255087785\n",
      "MAE: 44.31091790742053\n",
      "MAE: 20.570101099019677\n",
      "MAE: 14.26468074051671\n",
      "MAE: 15.306498505928923\n",
      "MAE: 21.449478195964293\n",
      "MAE: 19.959730142794843\n",
      "MAE: 12.185319416641414\n",
      "MAE: 12.30462012285471\n",
      "MAE: 21.560903318128073\n",
      "MAE: 12.442278915201447\n",
      "MAE: 16.695130581376713\n",
      "MAE: 8.549795322558671\n",
      "MAE: 15.83663632677287\n",
      "MAE: 17.478666750071444\n",
      "MAE: 12.699487672990173\n",
      "MAE: 35.69579661515948\n",
      "MAE: 37.742176927552066\n"
     ]
    },
    {
     "name": "stderr",
     "output_type": "stream",
     "text": [
      "2023-05-09 11:16:14,914 - __main__ - INFO - Predicting day 2022-03-01 00:00:00 (60/365)\n"
     ]
    },
    {
     "name": "stdout",
     "output_type": "stream",
     "text": [
      "MAE: 22.910129191723854\n",
      "MAE: 22.237704803600227\n",
      "MAE: 61.728182073067465\n",
      "MAE: 67.594210403845\n",
      "MAE: 35.26220124294543\n",
      "MAE: 53.01460548995522\n",
      "MAE: 55.34916878403511\n",
      "MAE: 47.274579116409605\n",
      "MAE: 82.06225961160379\n",
      "MAE: 99.64272713197687\n",
      "MAE: 46.93980318310721\n",
      "MAE: 16.38490920660196\n",
      "MAE: 15.569272305067711\n",
      "MAE: 17.54027954286224\n",
      "MAE: 29.751650121953464\n",
      "MAE: 55.965985774071335\n",
      "MAE: 18.178305291414706\n",
      "MAE: 17.745347674400808\n",
      "MAE: 42.98047687755449\n",
      "MAE: 11.641622009777336\n",
      "MAE: 18.249218693942552\n",
      "MAE: 15.382126401575784\n",
      "MAE: 12.894016892860426\n",
      "MAE: 31.777953277296984\n",
      "MAE: 55.031122056244726\n",
      "MAE: 51.7987243825479\n",
      "MAE: 41.93460236489884\n",
      "MAE: 46.844347126987806\n",
      "MAE: 43.425578113910596\n",
      "MAE: 31.292661121395906\n",
      "MAE: 78.97051147460088\n"
     ]
    },
    {
     "name": "stderr",
     "output_type": "stream",
     "text": [
      "2023-05-09 12:07:49,603 - __main__ - INFO - Predicting day 2022-04-01 00:00:00 (91/365)\n"
     ]
    },
    {
     "name": "stdout",
     "output_type": "stream",
     "text": [
      "MAE: 23.007669101420394\n",
      "MAE: 17.929310580524913\n",
      "MAE: 21.565477301080136\n",
      "MAE: 21.830002237921082\n",
      "MAE: 6.202921802184627\n",
      "MAE: 26.45445962932405\n",
      "MAE: 15.320523380875613\n",
      "MAE: 9.57607490767054\n",
      "MAE: 21.190042163656628\n",
      "MAE: 14.987636913240102\n",
      "MAE: 30.454072051076526\n",
      "MAE: 62.485235277744785\n",
      "MAE: 17.90108185338209\n",
      "MAE: 37.53828079934201\n",
      "MAE: 38.502814812113876\n",
      "MAE: 28.944683299243163\n",
      "MAE: 9.181280891419197\n",
      "MAE: 11.04686827358069\n",
      "MAE: 12.25795713901688\n",
      "MAE: 42.0298181363267\n",
      "MAE: 19.784480847370293\n",
      "MAE: 15.641724411154469\n",
      "MAE: 21.212504808984125\n",
      "MAE: 17.24700130783606\n",
      "MAE: 16.24380106768201\n",
      "MAE: 11.70735186174929\n",
      "MAE: 14.022275266340197\n",
      "MAE: 20.765956527084022\n",
      "MAE: 25.21667921010413\n",
      "MAE: 20.34190259041312\n"
     ]
    },
    {
     "name": "stderr",
     "output_type": "stream",
     "text": [
      "2023-05-09 13:02:27,542 - __main__ - INFO - Predicting day 2022-05-01 00:00:00 (121/365)\n"
     ]
    },
    {
     "name": "stdout",
     "output_type": "stream",
     "text": [
      "MAE: 13.257232124447155\n",
      "MAE: 24.51280391260018\n",
      "MAE: 48.265308045824554\n",
      "MAE: 38.5591477408463\n",
      "MAE: 35.740746459670284\n",
      "MAE: 63.03007666625857\n",
      "MAE: 27.483590744896656\n",
      "MAE: 43.86474884056967\n",
      "MAE: 28.232510351255588\n",
      "MAE: 41.23629368468875\n",
      "MAE: 30.67119385294521\n",
      "MAE: 30.560688374574625\n",
      "MAE: 25.280474576794347\n",
      "MAE: 26.347128829746925\n",
      "MAE: 35.614270886308724\n",
      "MAE: 22.485761587583017\n",
      "MAE: 36.42279869808642\n",
      "MAE: 41.11675663145221\n",
      "MAE: 35.16546752049633\n",
      "MAE: 33.35286120089967\n",
      "MAE: 35.650854735640195\n",
      "MAE: 25.727243115304493\n",
      "MAE: 33.80861560872105\n",
      "MAE: 26.54746763822219\n",
      "MAE: 26.31896634403294\n",
      "MAE: 21.117602508523834\n",
      "MAE: 27.312129462384604\n",
      "MAE: 15.017129984900023\n",
      "MAE: 19.886696430796025\n",
      "MAE: 38.06826366234087\n",
      "MAE: 48.33690348560477\n"
     ]
    },
    {
     "name": "stderr",
     "output_type": "stream",
     "text": [
      "2023-05-09 14:03:20,939 - __main__ - INFO - Predicting day 2022-06-01 00:00:00 (152/365)\n"
     ]
    },
    {
     "name": "stdout",
     "output_type": "stream",
     "text": [
      "MAE: 14.534624839671073\n",
      "MAE: 12.60931713223315\n",
      "MAE: 28.19619313375706\n",
      "MAE: 29.879672235821563\n",
      "MAE: 15.525816874188779\n",
      "MAE: 36.848208337929016\n",
      "MAE: 15.52284163815076\n",
      "MAE: 22.011194879605995\n",
      "MAE: 27.93936052343984\n",
      "MAE: 24.674890065565204\n",
      "MAE: 21.78150518690082\n",
      "MAE: 18.83073707122062\n",
      "MAE: 11.559089002814696\n",
      "MAE: 15.107587833628978\n",
      "MAE: 14.594949023182485\n",
      "MAE: 11.726274122702812\n",
      "MAE: 17.799388044204516\n",
      "MAE: 28.650793602815835\n",
      "MAE: 32.77703644003493\n",
      "MAE: 18.174104400247952\n",
      "MAE: 28.541645350470514\n",
      "MAE: 41.976074366078386\n",
      "MAE: 51.10519287816286\n",
      "MAE: 20.52430079024046\n",
      "MAE: 31.645720817606605\n",
      "MAE: 18.12989058397975\n",
      "MAE: 15.344227171977968\n",
      "MAE: 19.573023137277964\n",
      "MAE: 22.901978124150627\n",
      "MAE: 35.858591258083756\n"
     ]
    },
    {
     "name": "stderr",
     "output_type": "stream",
     "text": [
      "2023-05-09 14:55:04,463 - __main__ - INFO - Predicting day 2022-07-01 00:00:00 (182/365)\n"
     ]
    },
    {
     "name": "stdout",
     "output_type": "stream",
     "text": [
      "MAE: 19.622981405153514\n",
      "MAE: 18.59343118804228\n",
      "MAE: 21.23911498187803\n",
      "MAE: 9.886047973808266\n",
      "MAE: 24.1468599430721\n",
      "MAE: 39.7881513881225\n",
      "MAE: 40.69432666170338\n",
      "MAE: 19.351103369635208\n",
      "MAE: 43.123982637893825\n",
      "MAE: 17.577288768652462\n",
      "MAE: 27.319060653439454\n",
      "MAE: 47.309557605338114\n",
      "MAE: 40.624873988494784\n",
      "MAE: 51.8421788807982\n",
      "MAE: 60.31516925393888\n",
      "MAE: 45.34380321662197\n",
      "MAE: 32.7523997378486\n",
      "MAE: 31.98177905205829\n",
      "MAE: 38.650292985210704\n",
      "MAE: 32.58069319900907\n",
      "MAE: 36.54910805585367\n",
      "MAE: 62.01875826945861\n",
      "MAE: 44.38817571449355\n",
      "MAE: 38.744758236063056\n",
      "MAE: 36.9696788058125\n",
      "MAE: 35.08185556983256\n",
      "MAE: 65.19706195157833\n",
      "MAE: 89.39806968994965\n",
      "MAE: 67.29140801183594\n",
      "MAE: 36.58990827471849\n",
      "MAE: 40.666248912303985\n"
     ]
    },
    {
     "name": "stderr",
     "output_type": "stream",
     "text": [
      "2023-05-09 16:02:07,133 - __main__ - INFO - Predicting day 2022-08-01 00:00:00 (213/365)\n"
     ]
    },
    {
     "name": "stdout",
     "output_type": "stream",
     "text": [
      "MAE: 41.245531797281956\n",
      "MAE: 63.497550158694914\n",
      "MAE: 37.832012955803485\n",
      "MAE: 50.522006340872075\n",
      "MAE: 46.447194696433996\n",
      "MAE: 41.19945323322915\n",
      "MAE: 51.319144787843136\n",
      "MAE: 20.26876457739194\n",
      "MAE: 33.710828053966615\n",
      "MAE: 18.155546063775613\n",
      "MAE: 42.392049781643614\n",
      "MAE: 31.448532470180137\n",
      "MAE: 40.737888011457294\n",
      "MAE: 22.847062438471436\n",
      "MAE: 57.476018004862944\n",
      "MAE: 92.0444123875197\n",
      "MAE: 84.6434688328247\n",
      "MAE: 149.64033174883738\n",
      "MAE: 85.05254809160519\n",
      "MAE: 87.17218182770085\n",
      "MAE: 132.2495630380608\n",
      "MAE: 115.71257289260659\n",
      "MAE: 72.93525545105105\n",
      "MAE: 109.50331411975382\n",
      "MAE: 163.1410829054587\n",
      "MAE: 68.22967529402993\n",
      "MAE: 84.51849236292385\n",
      "MAE: 147.69984709126925\n",
      "MAE: 112.00813623144636\n",
      "MAE: 186.56416657222806\n",
      "MAE: 76.43342083645176\n"
     ]
    },
    {
     "name": "stderr",
     "output_type": "stream",
     "text": [
      "2023-05-09 17:00:15,944 - __main__ - INFO - Predicting day 2022-09-01 00:00:00 (244/365)\n"
     ]
    },
    {
     "name": "stdout",
     "output_type": "stream",
     "text": [
      "MAE: 50.6551718287007\n",
      "MAE: 66.95889934587386\n",
      "MAE: 78.69942549797845\n",
      "MAE: 29.762315760344787\n",
      "MAE: 29.83657203070293\n",
      "MAE: 47.78584212415631\n",
      "MAE: 40.76666261711285\n",
      "MAE: 78.11494380093355\n",
      "MAE: 171.93949453258287\n",
      "MAE: 31.16337817058864\n",
      "MAE: 14.206611955050866\n",
      "MAE: 11.29232433951565\n",
      "MAE: 80.5830937945299\n",
      "MAE: 98.18331301276446\n",
      "MAE: 109.54248687014024\n",
      "MAE: 95.230039993077\n",
      "MAE: 27.362833244134226\n",
      "MAE: 10.57757799475671\n",
      "MAE: 6.181488601684582\n",
      "MAE: 28.854073012109932\n",
      "MAE: 46.87646413631944\n",
      "MAE: 35.796117041501276\n",
      "MAE: 23.42513335616624\n",
      "MAE: 49.00038637602398\n",
      "MAE: 52.74455771570592\n",
      "MAE: 38.22388034666496\n",
      "MAE: 39.15890766657656\n",
      "MAE: 23.215810425271282\n",
      "MAE: 97.69759412420137\n",
      "MAE: 124.92418247078\n"
     ]
    },
    {
     "name": "stderr",
     "output_type": "stream",
     "text": [
      "2023-05-09 17:55:13,232 - __main__ - INFO - Predicting day 2022-10-01 00:00:00 (274/365)\n"
     ]
    },
    {
     "name": "stdout",
     "output_type": "stream",
     "text": [
      "MAE: 37.91542622827353\n",
      "MAE: 6.609065397760186\n",
      "MAE: 23.182319516434507\n",
      "MAE: 42.29850908661367\n",
      "MAE: 33.35864701519101\n",
      "MAE: 34.9782376231447\n",
      "MAE: 65.36100157044832\n",
      "MAE: 78.73960708594562\n",
      "MAE: 43.147323015136266\n",
      "MAE: 22.606946534767147\n",
      "MAE: 29.730516823287644\n",
      "MAE: 94.77545691517996\n",
      "MAE: 126.66772825108508\n",
      "MAE: 78.19731536677652\n",
      "MAE: 52.5006132560232\n",
      "MAE: 23.136050531103233\n",
      "MAE: 19.068729509614723\n",
      "MAE: 37.06853420207506\n",
      "MAE: 37.577082733288236\n",
      "MAE: 20.80604038319014\n",
      "MAE: 12.134308106580084\n",
      "MAE: 14.36934429233167\n",
      "MAE: 10.22453538083795\n",
      "MAE: 15.10003471890923\n",
      "MAE: 6.664244910627018\n",
      "MAE: 13.2098443286661\n",
      "MAE: 8.384655522721237\n",
      "MAE: 10.450828463492682\n",
      "MAE: 8.053229624177433\n",
      "MAE: 10.036811444937976\n",
      "MAE: 8.552195630046842\n"
     ]
    },
    {
     "name": "stderr",
     "output_type": "stream",
     "text": [
      "2023-05-09 18:52:39,901 - __main__ - INFO - Predicting day 2022-11-01 00:00:00 (305/365)\n"
     ]
    },
    {
     "name": "stdout",
     "output_type": "stream",
     "text": [
      "MAE: 11.727209131412446\n",
      "MAE: 8.94213987946098\n",
      "MAE: 9.16778693383693\n",
      "MAE: 6.820167759835388\n",
      "MAE: 53.449848557114684\n",
      "MAE: 33.899797973797725\n",
      "MAE: 14.014118883712122\n",
      "MAE: 18.351698044866946\n",
      "MAE: 23.462522346988777\n",
      "MAE: 42.50885589745953\n",
      "MAE: 48.214192273852056\n",
      "MAE: 83.37633977865028\n",
      "MAE: 49.88897134919341\n",
      "MAE: 25.822029786540565\n",
      "MAE: 45.11049982976809\n",
      "MAE: 56.63195396344556\n",
      "MAE: 70.41567645453092\n",
      "MAE: 30.826645426359818\n",
      "MAE: 15.361610427251689\n",
      "MAE: 73.4288345343573\n",
      "MAE: 51.205703663255406\n",
      "MAE: 47.910549854487726\n",
      "MAE: 45.10918399571245\n",
      "MAE: 32.46241087083644\n",
      "MAE: 79.40994252309059\n",
      "MAE: 74.41394751257589\n",
      "MAE: 42.11610856271645\n",
      "MAE: 20.939686564780946\n",
      "MAE: 32.12343877526643\n",
      "MAE: 139.74327007007753\n"
     ]
    },
    {
     "name": "stderr",
     "output_type": "stream",
     "text": [
      "2023-05-09 19:59:42,166 - __main__ - INFO - Predicting day 2022-12-01 00:00:00 (335/365)\n"
     ]
    },
    {
     "name": "stdout",
     "output_type": "stream",
     "text": [
      "MAE: 138.17269685891694\n",
      "MAE: 121.9103992548159\n",
      "MAE: 90.50474882882988\n",
      "MAE: 67.54218645392244\n",
      "MAE: 62.26223707611819\n",
      "MAE: 67.28851563400359\n",
      "MAE: 83.3680437459182\n",
      "MAE: 51.64338592272302\n",
      "MAE: 103.56433714631403\n",
      "MAE: 127.83276932542174\n",
      "MAE: 83.9121987995831\n",
      "MAE: 91.75873237467836\n",
      "MAE: 184.78620067351753\n",
      "MAE: 175.95835730530325\n",
      "MAE: 141.68320599711342\n",
      "MAE: 97.0158870031979\n",
      "MAE: 152.59656063644272\n",
      "MAE: 82.59287526757574\n",
      "MAE: 50.36333208756861\n",
      "MAE: 57.0487086250616\n",
      "MAE: 42.01338793296082\n",
      "MAE: 30.608593613548425\n",
      "MAE: 31.444520765509694\n",
      "MAE: 19.46710200377997\n",
      "MAE: 8.87997404840255\n",
      "MAE: 12.156487437076889\n",
      "MAE: 4.890262575577466\n",
      "MAE: 15.31181689294526\n",
      "MAE: 17.04731878750459\n",
      "MAE: 5.100707511007139\n",
      "MAE: 5.125732911077132\n",
      "MAE: 15.700093997251694\n"
     ]
    }
   ],
   "source": [
    "# fit Lear model\n",
    "calibration_window = 364 * 2  # 2 years\n",
    "#day_range = pd.date_range(start=test_cutoff, end=y.index[-1], freq='D')\n",
    "day_range = pd.date_range(start=pd.to_datetime('2022-01-01'), end=y.index[-1], freq='D')\n",
    "preds = pd.DataFrame(index=y_test.index, columns=['pred'])\n",
    "preds_done = pd.read_pickle(os.path.join(os.getcwd(), 'predictions', 'lear_preds.pkl'))\n",
    "\n",
    "forecast = pd.DataFrame(index=X_test.index, columns=['h' + str(k) for k in range(24)])\n",
    "forecast.index = pd.to_datetime(forecast.index)\n",
    "preds_done = preds_done.dropna()\n",
    "preds_done.index = pd.to_datetime(preds_done.index)\n",
    "# Acess first element of list for each row in preds_done\n",
    "for i, date in enumerate(preds_done.index):\n",
    "    forecast.loc[date] = preds_done.iloc[i]['pred'][0]#forecast.loc[preds_done.index] = preds_done.values.reshape(-1, 1)\n",
    "\n",
    "model = LEAR(calibration_window=calibration_window)\n",
    "\n",
    "# rename to 'Price' for some reason for this toolbox to work\n",
    "target_col = 'Price'\n",
    "\n",
    "\n",
    "\n",
    "time_start = time.time()\n",
    "for i, day in enumerate(day_range):\n",
    "    if day.day == 1:\n",
    "        logger.info(f'Predicting day {day} ({i+1}/{len(day_range)})')\n",
    "        # save predictions\n",
    "        preds.to_pickle(os.path.join(os.getcwd(), 'predictions', 'lear_preds.pkl'))\n",
    "    # get train data\n",
    "    X_train_date = X[X.index < day].values\n",
    "    y_train_date = y[y.index < day].values\n",
    "\n",
    "    X_test_date = X[(X.index >= day) & (X.index < day + pd.Timedelta(days=1))].values\n",
    "\n",
    "    pred = model.recalibrate_predict(X_train_date, y_train_date, X_test_date)\n",
    "\n",
    "    forecast.loc[day] = pred\n",
    "    print(f'MAE: {mean_absolute_error(y_test[y_test.index == day.date()], pred)}')\n"
   ],
   "metadata": {
    "collapsed": false
   }
  },
  {
   "cell_type": "code",
   "execution_count": 17,
   "outputs": [],
   "source": [
    "# save preds\n",
    "forecast.to_pickle(os.path.join(os.getcwd(), 'predictions', 'lear_preds.pkl'))"
   ],
   "metadata": {
    "collapsed": false
   }
  },
  {
   "cell_type": "code",
   "execution_count": 18,
   "outputs": [],
   "source": [
    "tmp = pd.read_pickle(os.path.join(os.getcwd(), 'predictions', 'lear_preds.pkl'))"
   ],
   "metadata": {
    "collapsed": false
   }
  },
  {
   "cell_type": "code",
   "execution_count": 21,
   "outputs": [],
   "source": [
    "forecast.to_pickle(os.path.join(os.getcwd(), 'predictions', 'lear_preds_2022.pkl'))"
   ],
   "metadata": {
    "collapsed": false
   }
  },
  {
   "cell_type": "code",
   "execution_count": 1,
   "outputs": [
    {
     "ename": "NameError",
     "evalue": "name 'pd' is not defined",
     "output_type": "error",
     "traceback": [
      "\u001B[1;31m---------------------------------------------------------------------------\u001B[0m",
      "\u001B[1;31mNameError\u001B[0m                                 Traceback (most recent call last)",
      "Cell \u001B[1;32mIn[1], line 1\u001B[0m\n\u001B[1;32m----> 1\u001B[0m AAA \u001B[38;5;241m=\u001B[39m \u001B[43mpd\u001B[49m\u001B[38;5;241m.\u001B[39mread_pickle(os\u001B[38;5;241m.\u001B[39mpath\u001B[38;5;241m.\u001B[39mjoin(os\u001B[38;5;241m.\u001B[39mgetcwd(), \u001B[38;5;124m'\u001B[39m\u001B[38;5;124mpredictions\u001B[39m\u001B[38;5;124m'\u001B[39m, \u001B[38;5;124m'\u001B[39m\u001B[38;5;124mlear_preds_2021.pkl\u001B[39m\u001B[38;5;124m'\u001B[39m))\n",
      "\u001B[1;31mNameError\u001B[0m: name 'pd' is not defined"
     ]
    }
   ],
   "source": [
    "AAA = pd.read_pickle(os.path.join(os.getcwd(), 'predictions', 'lear_preds_2021.pkl'))"
   ],
   "metadata": {
    "collapsed": false
   }
  },
  {
   "cell_type": "code",
   "execution_count": 2,
   "outputs": [],
   "source": [
    "import pandas as pd\n",
    "import os"
   ],
   "metadata": {
    "collapsed": false
   }
  },
  {
   "cell_type": "code",
   "execution_count": 5,
   "outputs": [],
   "source": [
    "AAA = pd.read_pickle(os.path.join(os.getcwd(), 'predictions', 'lear_preds_2021.pkl'))\n",
    "AAA1 = pd.read_pickle(os.path.join(os.getcwd(), 'predictions', 'lear_preds_2021_1.pkl'))"
   ],
   "metadata": {
    "collapsed": false
   }
  },
  {
   "cell_type": "code",
   "execution_count": 6,
   "outputs": [],
   "source": [
    "BBB = pd.read_pickle(os.path.join(os.getcwd(), 'predictions', 'lear_preds_2022.pkl'))"
   ],
   "metadata": {
    "collapsed": false
   }
  },
  {
   "cell_type": "code",
   "execution_count": 7,
   "outputs": [],
   "source": [
    "BBB[BBB.index.year == 2021] = AAA1.dropna()"
   ],
   "metadata": {
    "collapsed": false
   }
  },
  {
   "cell_type": "code",
   "execution_count": 9,
   "outputs": [],
   "source": [
    "BBB.to_pickle(os.path.join(os.getcwd(), 'predictions', 'lear_preds_all.pkl'))"
   ],
   "metadata": {
    "collapsed": false
   }
  },
  {
   "cell_type": "code",
   "execution_count": null,
   "outputs": [],
   "source": [],
   "metadata": {
    "collapsed": false
   }
  }
 ],
 "metadata": {
  "kernelspec": {
   "display_name": "Python 3",
   "language": "python",
   "name": "python3"
  },
  "language_info": {
   "codemirror_mode": {
    "name": "ipython",
    "version": 2
   },
   "file_extension": ".py",
   "mimetype": "text/x-python",
   "name": "python",
   "nbconvert_exporter": "python",
   "pygments_lexer": "ipython2",
   "version": "2.7.6"
  }
 },
 "nbformat": 4,
 "nbformat_minor": 0
}
