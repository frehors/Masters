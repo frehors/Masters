{
 "cells": [
  {
   "cell_type": "code",
   "execution_count": 51,
   "metadata": {
    "collapsed": true
   },
   "outputs": [],
   "source": [
    "import warnings\n",
    "warnings.simplefilter(action='ignore', category=FutureWarning)\n",
    "from models.create_dataset import create_dataset\n",
    "import pandas as pd\n",
    "import numpy as np\n",
    "from sklearn.model_selection import train_test_split\n",
    "from sklearn.linear_model import LinearRegression\n",
    "# lasso model\n",
    "from epftoolbox.models import LEAR\n",
    "from sklearn.linear_model import Lasso\n",
    "import logging\n",
    "import os\n"
   ]
  },
  {
   "cell_type": "code",
   "execution_count": 52,
   "outputs": [],
   "source": [
    "\n",
    "# Set up logging\n",
    "logging.basicConfig(level=logging.INFO, format='%(asctime)s - %(name)s - %(levelname)s - %(message)s')\n",
    "logger = logging.getLogger(__name__)\n"
   ],
   "metadata": {
    "collapsed": false
   }
  },
  {
   "cell_type": "code",
   "execution_count": 53,
   "outputs": [
    {
     "name": "stdout",
     "output_type": "stream",
     "text": [
      "['NO_Solar', 'NO_Wind Offshore', 'NO_Solar_lag_1', 'NO_Solar_lag_2', 'NO_Solar_lag_3', 'NO_Solar_lag_7', 'NO_Wind Offshore_lag_1', 'NO_Wind Offshore_lag_2', 'NO_Wind Offshore_lag_3', 'NO_Wind Offshore_lag_7']\n"
     ]
    }
   ],
   "source": [
    "# load data\n",
    "target_col = 'DK1_price'\n",
    "data = create_dataset(target_col=target_col)\n",
    "# split into X and y\n",
    "X = data.drop(target_col, axis=1)\n",
    "# apparently all variables need to be named Exogenous 1, 2, 3, etc.\n",
    "X.columns = ['Exogenous ' + str(i) for i in range(1, X.shape[1] + 1)]\n",
    "\n",
    "y = data[target_col]\n",
    "# rename to 'Price' for some reason for this toolbox to work\n",
    "y = y.rename('Price')"
   ],
   "metadata": {
    "collapsed": false
   }
  },
  {
   "cell_type": "code",
   "execution_count": 58,
   "outputs": [],
   "source": [
    "# split into train and test\n",
    "# set start time as first time in index where hour is 0\n",
    "\n",
    "start_time = X[X.index.hour == 0].index[0]\n",
    "test_cutoff = pd.to_datetime('2021-01-01 00:00')\n",
    "X = X[X.index >= start_time]\n",
    "y = y[y.index >= start_time]\n",
    "\n",
    "# subtract one hour\n",
    "X_train, X_test = X[X.index < test_cutoff], X[X.index >= test_cutoff]\n",
    "y_train, y_test = y[y.index < test_cutoff], y[y.index >= test_cutoff]"
   ],
   "metadata": {
    "collapsed": false
   }
  },
  {
   "cell_type": "code",
   "execution_count": 59,
   "outputs": [],
   "source": [
    "# split into train and validation\n",
    "X_train, X_val, y_train, y_val = train_test_split(X_train, y_train, test_size=0.2, shuffle=False)"
   ],
   "metadata": {
    "collapsed": false
   }
  },
  {
   "cell_type": "code",
   "execution_count": 60,
   "outputs": [
    {
     "data": {
      "text/plain": "Timestamp('2015-03-04 00:00:00')"
     },
     "execution_count": 60,
     "metadata": {},
     "output_type": "execute_result"
    }
   ],
   "source": [
    "start_time\n",
    "#pd.to_datetime('2021-01-01 00:00')"
   ],
   "metadata": {
    "collapsed": false
   }
  },
  {
   "cell_type": "code",
   "execution_count": 61,
   "outputs": [
    {
     "name": "stderr",
     "output_type": "stream",
     "text": [
      "2023-05-01 15:29:21,448 - __main__ - INFO - Predicting day 2021-01-01 00:00:00 (1/730)\n"
     ]
    },
    {
     "ename": "ValueError",
     "evalue": "cannot reshape array of size 5009760 into shape (1,24)",
     "output_type": "error",
     "traceback": [
      "\u001B[1;31m---------------------------------------------------------------------------\u001B[0m",
      "\u001B[1;31mValueError\u001B[0m                                Traceback (most recent call last)",
      "Cell \u001B[1;32mIn[61], line 25\u001B[0m\n\u001B[0;32m     23\u001B[0m \u001B[38;5;66;03m# reshape\u001B[39;00m\n\u001B[0;32m     24\u001B[0m y_train \u001B[38;5;241m=\u001B[39m y_train\u001B[38;5;241m.\u001B[39mreshape(\u001B[38;5;241m-\u001B[39m\u001B[38;5;241m1\u001B[39m, \u001B[38;5;241m24\u001B[39m)\n\u001B[1;32m---> 25\u001B[0m X_train \u001B[38;5;241m=\u001B[39m \u001B[43mX_train\u001B[49m\u001B[38;5;241;43m.\u001B[39;49m\u001B[43mreshape\u001B[49m\u001B[43m(\u001B[49m\u001B[38;5;241;43m1\u001B[39;49m\u001B[43m,\u001B[49m\u001B[43m \u001B[49m\u001B[38;5;241;43m24\u001B[39;49m\u001B[43m)\u001B[49m\n\u001B[0;32m     26\u001B[0m \u001B[38;5;66;03m# add newaxis\u001B[39;00m\n\u001B[0;32m     27\u001B[0m \u001B[38;5;66;03m#y_train = y_train[:, np.newaxis]\u001B[39;00m\n\u001B[0;32m     28\u001B[0m X_test \u001B[38;5;241m=\u001B[39m X[(X\u001B[38;5;241m.\u001B[39mindex \u001B[38;5;241m>\u001B[39m\u001B[38;5;241m=\u001B[39m day) \u001B[38;5;241m&\u001B[39m (X\u001B[38;5;241m.\u001B[39mindex \u001B[38;5;241m<\u001B[39m day \u001B[38;5;241m+\u001B[39m pd\u001B[38;5;241m.\u001B[39mTimedelta(days\u001B[38;5;241m=\u001B[39m\u001B[38;5;241m1\u001B[39m))]\u001B[38;5;241m.\u001B[39mvalues\n",
      "\u001B[1;31mValueError\u001B[0m: cannot reshape array of size 5009760 into shape (1,24)"
     ]
    }
   ],
   "source": [
    "# fit Lear model\n",
    "calibration_window = 364 * 4  # 4 years\n",
    "day_range = pd.date_range(start=test_cutoff, end=y.index[-1], freq='D')\n",
    "preds = pd.DataFrame(index=y_test.index, columns=['pred'])\n",
    "\n",
    "model = LEAR(calibration_window=calibration_window)\n",
    "\n",
    "forecast = pd.DataFrame(index=X_test.index[::24], columns=['h' + str(k) for k in range(24)])\n",
    "forecast_dates = forecast.index\n",
    "# rename to 'Price' for some reason for this toolbox to work\n",
    "target_col = 'Price'\n",
    "\n",
    "\n",
    "\n",
    "\n",
    "for i, day in enumerate(day_range):\n",
    "    if day.day == 1:\n",
    "        logger.info(f'Predicting day {day} ({i+1}/{len(day_range)})')\n",
    "\n",
    "    # get train data\n",
    "    X_train = X[X.index < day].values\n",
    "    y_train = y[y.index < day].values\n",
    "    # reshape\n",
    "    y_train = y_train.reshape(-1, 24)\n",
    "    X_train = X_train.reshape(-1, 24)\n",
    "    # add newaxis\n",
    "    #y_train = y_train[:, np.newaxis]\n",
    "    X_test = X[(X.index >= day) & (X.index < day + pd.Timedelta(days=1))].values\n",
    "    #X_test = X_test.reshape(-1, 24)\n",
    "    # to numpy\n",
    "    #X_train = X_train.values\n",
    "    # calibrate and predict\n",
    "    pred = model.recalibrate_predict(X_train, y_train, X_test)\n",
    "    preds.loc[X_test.index, 'pred'] = pred\n"
   ],
   "metadata": {
    "collapsed": false
   }
  },
  {
   "cell_type": "code",
   "execution_count": null,
   "outputs": [],
   "source": [],
   "metadata": {
    "collapsed": false
   }
  },
  {
   "cell_type": "code",
   "execution_count": null,
   "outputs": [],
   "source": [
    "for date in forecast_dates:\n",
    "    print(date)\n",
    "    # For simulation purposes, we assume that the available data is\n",
    "    # the data up to current date where the prices of current date are not known\n",
    "    #data_available = X.loc[:date + pd.Timedelta(hours=23), :]\n",
    "    #data_available = pd.concat([df_train, df_test.loc[:date + pd.Timedelta(hours=23), :]], axis=0)\n",
    "\n",
    "\n",
    "    # We set the real prices for current date to NaN in the dataframe of available data\n",
    "    # data_available.loc[date:date + pd.Timedelta(hours=23), target_col] = np.NaN\n",
    "    X_train = X[X.index < date]\n",
    "    y_train = y[y.index < date]\n",
    "    X_test = X[(X.index >= date) & (X.index < date + pd.Timedelta(days=1))]\n",
    "    # Recalibrating the model with the most up-to-date available data and making a prediction\n",
    "    # for the next day\n",
    "    # Yp = model.recalibrate_and_forecast_next_day(df=data_available, next_day_date=date,\n",
    "    #                                              calibration_window=calibration_window)\n",
    "    # Saving the current prediction\n",
    "    Yp = model.recalibrate_predict(X_train, y_train, X_test)\n",
    "    forecast.loc[date, :] = Yp\n",
    "\n",
    "    # Computing metrics up-to-current-date\n",
    "    #mae = np.mean(MAE(forecast.loc[:date].values.squeeze(), real_values.loc[:date].values))\n",
    "    #smape = np.mean(sMAPE(forecast.loc[:date].values.squeeze(), real_values.loc[:date].values)) * 100\n",
    "\n",
    "    # Pringint information\n",
    "    #print('{} - sMAPE: {:.2f}%  |  MAE: {:.3f}'.format(str(date)[:10], smape, mae))\n",
    "\n",
    "    # Saving forecast\n",
    "    #forecast.to_csv(forecast_file_path)"
   ],
   "metadata": {
    "collapsed": false
   }
  }
 ],
 "metadata": {
  "kernelspec": {
   "display_name": "Python 3",
   "language": "python",
   "name": "python3"
  },
  "language_info": {
   "codemirror_mode": {
    "name": "ipython",
    "version": 2
   },
   "file_extension": ".py",
   "mimetype": "text/x-python",
   "name": "python",
   "nbconvert_exporter": "python",
   "pygments_lexer": "ipython2",
   "version": "2.7.6"
  }
 },
 "nbformat": 4,
 "nbformat_minor": 0
}
