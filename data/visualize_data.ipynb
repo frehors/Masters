{
 "cells": [
  {
   "cell_type": "code",
   "execution_count": 1,
   "outputs": [],
   "source": [
    "import pandas as pd\n",
    "import os\n",
    "import numpy as np\n",
    "import plotly.express as px\n",
    "import plotly.graph_objects as go\n",
    "import plotly.io as pio\n",
    "from models.create_dataset import create_dataset\n"
   ],
   "metadata": {
    "collapsed": false
   }
  },
  {
   "cell_type": "code",
   "execution_count": 2,
   "outputs": [
    {
     "name": "stdout",
     "output_type": "stream",
     "text": [
      "invalid cols ['NO_Solar', 'NO_Solar_lag_1', 'NO_Solar_lag_2', 'NO_Solar_lag_3', 'NO_Solar_lag_7']\n",
      "68809\n",
      "68641\n"
     ]
    }
   ],
   "source": [
    "\n",
    "df = create_dataset()"
   ],
   "metadata": {
    "collapsed": false
   }
  },
  {
   "cell_type": "code",
   "execution_count": 3,
   "outputs": [],
   "source": [
    "target_col = 'DK1_price'"
   ],
   "metadata": {
    "collapsed": false
   }
  },
  {
   "cell_type": "code",
   "execution_count": 7,
   "outputs": [
    {
     "name": "stdout",
     "output_type": "stream",
     "text": [
      "2015-03-03 23:00:00\n",
      "2860\n",
      "2860\n",
      "2860\n",
      "2860\n"
     ]
    }
   ],
   "source": [
    "y = df[target_col]\n",
    "X = df.drop(target_col, axis=1)\n",
    "print(X.index[0])\n",
    "# Pivot hourly index out to columns so index is only date\n",
    "pivot_columns = [col for col in X.columns if not col.startswith('day_of_week')]\n",
    "X = X.pivot_table(index=X.index.date, columns=X.index.hour, values=pivot_columns)\n",
    "X = X.dropna()\n",
    "print(X.shape[0])\n",
    "X = X.loc[:, (X != 0).any(axis=0)]\n",
    "print(X.shape[0])\n",
    "# and some are 0 almost always, drop features with a MAD below threshold\n",
    "X = X.loc[:, X.sub(X.median(axis=0), axis=1).abs().median(axis=0) > 0.01]\n",
    "print(X.shape[0])\n",
    "X.index = pd.to_datetime(X.index)\n",
    "X['day_of_week'] = X.index.dayofweek\n",
    "print(X.shape[0])\n",
    "# to dummies\n",
    "# day_of_week_0 column when day_of_week is 0, i.e. monday. 1 if monday, 0 otherwise\n",
    "X['day_of_week_0'] = X['day_of_week'].apply(lambda x: 1 if x == 0 else 0)\n",
    "X = pd.get_dummies(X, columns=['day_of_week'], drop_first=True) # last one should not be there, but we still use it?"
   ],
   "metadata": {
    "collapsed": false
   }
  },
  {
   "cell_type": "code",
   "execution_count": 6,
   "outputs": [
    {
     "data": {
      "text/plain": "Timestamp('2015-03-04 00:00:00')"
     },
     "execution_count": 6,
     "metadata": {},
     "output_type": "execute_result"
    }
   ],
   "source": [
    "X.index[0]"
   ],
   "metadata": {
    "collapsed": false
   }
  },
  {
   "cell_type": "code",
   "execution_count": 22,
   "outputs": [],
   "source": [
    "# plot march\n",
    "march_df = dk_df.loc['2017-03-10':'2017-03-21']\n",
    "fig = px.line(march_df, x=march_df.index, y=march_df.columns)\n",
    "# add MW as y axis0\n",
    "fig.update_yaxes(title_text='MW')\n",
    "# update x\n",
    "fig.update_xaxes(title_text='Date')\n",
    "# highlight the 17th\n",
    "fig.add_vline(x='2017-03-17', line_width=3, line_dash=\"dash\", line_color=\"green\")\n",
    "fig.add_vline(x='2017-03-18', line_width=3, line_dash=\"dash\", line_color=\"green\")\n",
    "# add title\n",
    "fig.update_layout(title_text='March 2017 Wind Power Production in Denmark')\n",
    "# add legend stating interpolation period\n",
    "fig.add_annotation(x='2017-03-17', y=0.5, text=\"interpolated data\", showarrow=True)\n",
    "\n",
    "# save fig png\n",
    "# path =\n",
    "os.chdir('..')\n",
    "os.chdir('plots')\n",
    "fig.write_image(\"march.png\")"
   ],
   "metadata": {
    "collapsed": false
   }
  },
  {
   "cell_type": "code",
   "execution_count": null,
   "outputs": [],
   "source": [],
   "metadata": {
    "collapsed": false
   }
  }
 ],
 "metadata": {
  "kernelspec": {
   "display_name": "Python 3",
   "language": "python",
   "name": "python3"
  },
  "language_info": {
   "codemirror_mode": {
    "name": "ipython",
    "version": 2
   },
   "file_extension": ".py",
   "mimetype": "text/x-python",
   "name": "python",
   "nbconvert_exporter": "python",
   "pygments_lexer": "ipython2",
   "version": "2.7.6"
  }
 },
 "nbformat": 4,
 "nbformat_minor": 0
}
